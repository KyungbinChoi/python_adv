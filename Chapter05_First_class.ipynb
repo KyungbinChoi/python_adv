{
 "cells": [
  {
   "attachments": {},
   "cell_type": "markdown",
   "metadata": {},
   "source": [
    "## First class (일급함수)\n",
    "### 파이썬 함수 특징\n",
    "    - Runtime 초기화\n",
    "    - 변수 할당 가능\n",
    "    - 함수 인수(parameter) 전달 가능\n",
    "    - 함수 결과 반환 (return)\n"
   ]
  },
  {
   "cell_type": "code",
   "execution_count": 2,
   "metadata": {},
   "outputs": [],
   "source": [
    "def factorial(n):\n",
    "    \"\"\"factorial function\n",
    "\n",
    "    Args:\n",
    "        n (int): integer number\n",
    "    \"\"\"\n",
    "    if n ==1:\n",
    "        return 1\n",
    "    return n * factorial(n-1)\n",
    "\n",
    "class A:\n",
    "    pass"
   ]
  },
  {
   "cell_type": "code",
   "execution_count": 3,
   "metadata": {},
   "outputs": [
    {
     "name": "stdout",
     "output_type": "stream",
     "text": [
      "120\n"
     ]
    }
   ],
   "source": [
    "print(factorial(5))"
   ]
  },
  {
   "cell_type": "code",
   "execution_count": 4,
   "metadata": {},
   "outputs": [
    {
     "name": "stdout",
     "output_type": "stream",
     "text": [
      "factorial function\n",
      "\n",
      "    Args:\n",
      "        n (int): integer number\n",
      "    \n",
      "<class 'function'> <class 'type'>\n"
     ]
    }
   ],
   "source": [
    "print(factorial.__doc__)\n",
    "print(type(factorial), type(A))"
   ]
  },
  {
   "cell_type": "code",
   "execution_count": 5,
   "metadata": {},
   "outputs": [
    {
     "name": "stdout",
     "output_type": "stream",
     "text": [
      "['__annotations__', '__builtins__', '__call__', '__class__', '__closure__', '__code__', '__defaults__', '__delattr__', '__dict__', '__dir__', '__doc__', '__eq__', '__format__', '__ge__', '__get__', '__getattribute__', '__globals__', '__gt__', '__hash__', '__init__', '__init_subclass__', '__kwdefaults__', '__le__', '__lt__', '__module__', '__name__', '__ne__', '__new__', '__qualname__', '__reduce__', '__reduce_ex__', '__repr__', '__setattr__', '__sizeof__', '__str__', '__subclasshook__']\n",
      "{'__closure__', '__code__', '__annotations__', '__get__', '__kwdefaults__', '__globals__', '__name__', '__defaults__', '__call__', '__builtins__', '__qualname__'}\n"
     ]
    }
   ],
   "source": [
    "print(dir(factorial))\n",
    "print(set(sorted(dir(factorial))) - set(sorted(dir(A)))) # 함수 이지만 객체 취급"
   ]
  },
  {
   "cell_type": "code",
   "execution_count": 6,
   "metadata": {},
   "outputs": [
    {
     "name": "stdout",
     "output_type": "stream",
     "text": [
      "factorial\n"
     ]
    }
   ],
   "source": [
    "print(factorial.__name__)"
   ]
  },
  {
   "cell_type": "code",
   "execution_count": 7,
   "metadata": {},
   "outputs": [
    {
     "name": "stdout",
     "output_type": "stream",
     "text": [
      "<code object factorial at 0x113888030, file \"/var/folders/1l/w3vzbf215cs4ll30rh71l7wr6ghggx/T/ipykernel_14729/3798461879.py\", line 1>\n"
     ]
    }
   ],
   "source": [
    "print(factorial.__code__)"
   ]
  },
  {
   "cell_type": "code",
   "execution_count": 10,
   "metadata": {},
   "outputs": [
    {
     "name": "stdout",
     "output_type": "stream",
     "text": [
      "<function factorial at 0x113537370>\n",
      "[1, 2, 6, 24, 120, 720, 5040, 40320, 362880, 3628800]\n"
     ]
    }
   ],
   "source": [
    "# 변수 할당\n",
    "var_func = factorial\n",
    "print(var_func)\n",
    "var_func(10)\n",
    "print(list(map(var_func, range(1,11))))"
   ]
  },
  {
   "cell_type": "code",
   "execution_count": 12,
   "metadata": {},
   "outputs": [
    {
     "name": "stdout",
     "output_type": "stream",
     "text": [
      "[1, 6, 120]\n",
      "[1, 6, 120]\n"
     ]
    }
   ],
   "source": [
    "# 함수 인수 전달 및 함수로 결과 반환 -> 고위 함수 (High-order function)\n",
    "# map, filter, reduce\n",
    "print([var_func(i) for i in range(1,6) if i % 2]) # better for readability\n",
    "print(list(map(var_func, filter(lambda x:x % 2 , range(1,6)))))"
   ]
  },
  {
   "cell_type": "code",
   "execution_count": 13,
   "metadata": {},
   "outputs": [
    {
     "name": "stdout",
     "output_type": "stream",
     "text": [
      "5050\n",
      "5050\n"
     ]
    }
   ],
   "source": [
    "from functools import reduce\n",
    "from operator import add\n",
    "\n",
    "print(sum(range(1,101)))\n",
    "print(reduce(add, range(1,101)))"
   ]
  },
  {
   "attachments": {},
   "cell_type": "markdown",
   "metadata": {},
   "source": [
    "### Lambda (익명함수)\n",
    "* 가능하면 주석을 다는것을 권장\n",
    "* 필요한 상황에만 쓸 것"
   ]
  },
  {
   "cell_type": "code",
   "execution_count": 14,
   "metadata": {},
   "outputs": [
    {
     "name": "stdout",
     "output_type": "stream",
     "text": [
      "5050\n"
     ]
    }
   ],
   "source": [
    "print(reduce(lambda x,t : x+t, range(1,101)))"
   ]
  },
  {
   "attachments": {},
   "cell_type": "markdown",
   "metadata": {},
   "source": [
    "### Callable\n",
    "* method 형태로 호출 가능한지의 여부를 알려주는 속성"
   ]
  },
  {
   "cell_type": "code",
   "execution_count": 15,
   "metadata": {},
   "outputs": [
    {
     "name": "stdout",
     "output_type": "stream",
     "text": [
      "True\n",
      "True\n",
      "True\n",
      "True\n",
      "False\n"
     ]
    }
   ],
   "source": [
    "print(callable(str))\n",
    "print(callable(A)) # class\n",
    "print(callable(factorial))\n",
    "print(callable(var_func))\n",
    "print(callable(3.141592))"
   ]
  },
  {
   "attachments": {},
   "cell_type": "markdown",
   "metadata": {},
   "source": [
    "### Partial 사용법\n",
    "* 인수를 고정하는 데 사용 -> callback 함수에 활용"
   ]
  },
  {
   "cell_type": "code",
   "execution_count": 16,
   "metadata": {},
   "outputs": [],
   "source": [
    "from operator import mul\n",
    "from functools import partial"
   ]
  },
  {
   "cell_type": "code",
   "execution_count": 17,
   "metadata": {},
   "outputs": [
    {
     "name": "stdout",
     "output_type": "stream",
     "text": [
      "110\n"
     ]
    }
   ],
   "source": [
    "print(mul(10,11))"
   ]
  },
  {
   "cell_type": "code",
   "execution_count": 18,
   "metadata": {},
   "outputs": [
    {
     "name": "stdout",
     "output_type": "stream",
     "text": [
      "110\n",
      "121\n",
      "[11, 22, 33, 44, 55, 66, 77, 88, 99, 110, 121, 132, 143, 154, 165, 176, 187, 198, 209, 220, 231, 242, 253, 264, 275, 286, 297, 308, 319, 330, 341, 352, 363, 374, 385, 396, 407, 418, 429, 440, 451, 462, 473, 484, 495, 506, 517, 528, 539, 550]\n"
     ]
    }
   ],
   "source": [
    "elev_mul = partial(mul, 11)\n",
    "print(elev_mul(10))\n",
    "print(elev_mul(11))\n",
    "print([elev_mul(i) for i in range(1,51)])"
   ]
  },
  {
   "cell_type": "code",
   "execution_count": 20,
   "metadata": {},
   "outputs": [
    {
     "name": "stdout",
     "output_type": "stream",
     "text": [
      "55\n"
     ]
    }
   ],
   "source": [
    "mul2 = partial(elev_mul, 5)\n",
    "print(mul2())"
   ]
  },
  {
   "cell_type": "code",
   "execution_count": 21,
   "metadata": {},
   "outputs": [
    {
     "ename": "TypeError",
     "evalue": "mul expected 2 arguments, got 3",
     "output_type": "error",
     "traceback": [
      "\u001b[0;31m---------------------------------------------------------------------------\u001b[0m",
      "\u001b[0;31mTypeError\u001b[0m                                 Traceback (most recent call last)",
      "Cell \u001b[0;32mIn[21], line 1\u001b[0m\n\u001b[0;32m----> 1\u001b[0m mul2(\u001b[39m22\u001b[39;49m)\n",
      "\u001b[0;31mTypeError\u001b[0m: mul expected 2 arguments, got 3"
     ]
    }
   ],
   "source": [
    "mul2(22)"
   ]
  },
  {
   "attachments": {},
   "cell_type": "markdown",
   "metadata": {},
   "source": [
    "## Closure\n",
    "    - 파이썬 변수 범위 (scope)\n",
    "        - 우선 순위는 local area 먼저,\n",
    "        - local variable << global variable\n",
    "    - Global 선언\n",
    "        - function 내 global variable 을 선언\n",
    "    - Closure 사용 이유\n",
    "        - 동시성 제어 (Concurrency Control) >> 메모리 공간에 여러 자원이 접근 >> 교착상태(Dead Lock)\n",
    "        - 메모리를 공유하지 않고 메시지 전달로 처리\n",
    "        - Closure 는 공유하되 변경되지 않는 성질 (Immutable, Read Only) (불변 상태를 기억)\n",
    "        - 불변자료구조 및 atom, STM -> 멀티스레드(Coroutine) 프로그래밍 감점\n",
    "    - Class -> Closure 구현"
   ]
  },
  {
   "cell_type": "code",
   "execution_count": 24,
   "metadata": {},
   "outputs": [
    {
     "name": "stdout",
     "output_type": "stream",
     "text": [
      "10\n",
      "40\n",
      "---\n",
      "10\n",
      "21\n",
      "40\n"
     ]
    }
   ],
   "source": [
    "# global\n",
    "c = 21\n",
    "def func_v(a):\n",
    "    c = 40\n",
    "    print(a)\n",
    "    print(c)\n",
    "func_v(10)\n",
    "\n",
    "print('---')\n",
    "\n",
    "def func_v2(a):\n",
    "    global c\n",
    "    print(a)\n",
    "    print(c)\n",
    "    c = 40\n",
    "func_v2(10)\n",
    "print(c)"
   ]
  },
  {
   "cell_type": "code",
   "execution_count": 25,
   "metadata": {},
   "outputs": [
    {
     "name": "stdout",
     "output_type": "stream",
     "text": [
      "3775\n"
     ]
    }
   ],
   "source": [
    "# Closer \n",
    "print(sum(range(51,101)))"
   ]
  },
  {
   "cell_type": "code",
   "execution_count": 26,
   "metadata": {},
   "outputs": [],
   "source": [
    "from typing import Any\n",
    "\n",
    "\n",
    "class Averager:\n",
    "    \"\"\"평균을 누적하면서 구해주는 class\n",
    "    \"\"\"\n",
    "    def __init__(self) -> None:\n",
    "        self._series = []\n",
    "    \n",
    "    def __call__(self, v):\n",
    "        self._series.append(v)\n",
    "        print('inner >> {} / {}'.format(self._series, len(self._series)))\n",
    "        return sum(self._series) / len(self._series)\n"
   ]
  },
  {
   "cell_type": "code",
   "execution_count": 30,
   "metadata": {},
   "outputs": [],
   "source": [
    "avg_cls = Averager()\n",
    "\n",
    "tmp_val = 10"
   ]
  },
  {
   "cell_type": "code",
   "execution_count": 31,
   "metadata": {},
   "outputs": [
    {
     "name": "stdout",
     "output_type": "stream",
     "text": [
      "inner >> [10] / 1\n"
     ]
    },
    {
     "data": {
      "text/plain": [
       "10.0"
      ]
     },
     "execution_count": 31,
     "metadata": {},
     "output_type": "execute_result"
    }
   ],
   "source": [
    "avg_cls(tmp_val)"
   ]
  },
  {
   "cell_type": "code",
   "execution_count": 32,
   "metadata": {},
   "outputs": [
    {
     "name": "stdout",
     "output_type": "stream",
     "text": [
      "inner >> [10, 30] / 2\n"
     ]
    },
    {
     "data": {
      "text/plain": [
       "20.0"
      ]
     },
     "execution_count": 32,
     "metadata": {},
     "output_type": "execute_result"
    }
   ],
   "source": [
    "avg_cls(30)"
   ]
  },
  {
   "cell_type": "code",
   "execution_count": 33,
   "metadata": {},
   "outputs": [
    {
     "name": "stdout",
     "output_type": "stream",
     "text": [
      "inner >> [10, 30, 50] / 3\n"
     ]
    },
    {
     "data": {
      "text/plain": [
       "30.0"
      ]
     },
     "execution_count": 33,
     "metadata": {},
     "output_type": "execute_result"
    }
   ],
   "source": [
    "avg_cls(50)"
   ]
  },
  {
   "cell_type": "code",
   "execution_count": 34,
   "metadata": {},
   "outputs": [
    {
     "name": "stdout",
     "output_type": "stream",
     "text": [
      "inner >> [10, 30, 50, 111] / 4\n"
     ]
    },
    {
     "data": {
      "text/plain": [
       "50.25"
      ]
     },
     "execution_count": 34,
     "metadata": {},
     "output_type": "execute_result"
    }
   ],
   "source": [
    "avg_cls(111)"
   ]
  },
  {
   "cell_type": "code",
   "execution_count": 40,
   "metadata": {},
   "outputs": [],
   "source": [
    "def closure_ex1():\n",
    "    # Free variable\n",
    "    # Closure 영역\n",
    "    series = []\n",
    "    def averager(v):\n",
    "        series.append(v)\n",
    "        print('inner >>> {} / {}'.format(series, len(series)))\n",
    "        return sum(series) / len(series)\n",
    "    return averager"
   ]
  },
  {
   "cell_type": "code",
   "execution_count": 41,
   "metadata": {},
   "outputs": [
    {
     "name": "stdout",
     "output_type": "stream",
     "text": [
      "<function closure_ex1.<locals>.averager at 0x117d61b40>\n"
     ]
    }
   ],
   "source": [
    "avg_closure1 = closure_ex1()\n",
    "print(avg_closure1)"
   ]
  },
  {
   "cell_type": "code",
   "execution_count": 42,
   "metadata": {},
   "outputs": [
    {
     "name": "stdout",
     "output_type": "stream",
     "text": [
      "inner >>> [10] / 1\n",
      "10.0\n",
      "inner >>> [10, 30] / 2\n",
      "20.0\n",
      "inner >>> [10, 30, 50] / 3\n",
      "30.0\n"
     ]
    }
   ],
   "source": [
    "print(avg_closure1(10))\n",
    "print(avg_closure1(30))\n",
    "print(avg_closure1(50))"
   ]
  },
  {
   "cell_type": "code",
   "execution_count": 47,
   "metadata": {},
   "outputs": [
    {
     "name": "stdout",
     "output_type": "stream",
     "text": [
      "['__annotations__', '__builtins__', '__call__', '__class__', '__closure__', '__code__', '__defaults__', '__delattr__', '__dict__', '__dir__', '__doc__', '__eq__', '__format__', '__ge__', '__get__', '__getattribute__', '__globals__', '__gt__', '__hash__', '__init__', '__init_subclass__', '__kwdefaults__', '__le__', '__lt__', '__module__', '__name__', '__ne__', '__new__', '__qualname__', '__reduce__', '__reduce_ex__', '__repr__', '__setattr__', '__sizeof__', '__str__', '__subclasshook__']\n",
      "['__class__', '__delattr__', '__dir__', '__doc__', '__eq__', '__format__', '__ge__', '__getattribute__', '__gt__', '__hash__', '__init__', '__init_subclass__', '__le__', '__lt__', '__ne__', '__new__', '__reduce__', '__reduce_ex__', '__repr__', '__setattr__', '__sizeof__', '__str__', '__subclasshook__', 'co_argcount', 'co_cellvars', 'co_code', 'co_consts', 'co_filename', 'co_firstlineno', 'co_flags', 'co_freevars', 'co_kwonlyargcount', 'co_lines', 'co_linetable', 'co_lnotab', 'co_name', 'co_names', 'co_nlocals', 'co_posonlyargcount', 'co_stacksize', 'co_varnames', 'replace']\n",
      "('series',)\n",
      "[10, 30, 50]\n"
     ]
    }
   ],
   "source": [
    "# function inspection\n",
    "print(dir(avg_closure1))\n",
    "print(dir(avg_closure1.__code__))\n",
    "print(avg_closure1.__code__.co_freevars)\n",
    "print(avg_closure1.__closure__[0].cell_contents) # free variable value"
   ]
  },
  {
   "cell_type": "code",
   "execution_count": 52,
   "metadata": {},
   "outputs": [],
   "source": [
    "# 잘못된 Closure 의 활용\n",
    "def closure_ex2():\n",
    "    # Free variable\n",
    "    # Closure 영역\n",
    "    cnt = 0\n",
    "    total = 0\n",
    "    def averager(v):\n",
    "        cnt +=1\n",
    "        total += v\n",
    "        return total / cnt\n",
    "    return averager"
   ]
  },
  {
   "cell_type": "code",
   "execution_count": 53,
   "metadata": {},
   "outputs": [
    {
     "ename": "UnboundLocalError",
     "evalue": "local variable 'cnt' referenced before assignment",
     "output_type": "error",
     "traceback": [
      "\u001b[0;31m---------------------------------------------------------------------------\u001b[0m",
      "\u001b[0;31mUnboundLocalError\u001b[0m                         Traceback (most recent call last)",
      "Cell \u001b[0;32mIn[53], line 2\u001b[0m\n\u001b[1;32m      1\u001b[0m avg_closure2 \u001b[39m=\u001b[39m closure_ex2()\n\u001b[0;32m----> 2\u001b[0m \u001b[39mprint\u001b[39m(avg_closure2(\u001b[39m10\u001b[39;49m))\n",
      "Cell \u001b[0;32mIn[52], line 8\u001b[0m, in \u001b[0;36mclosure_ex2.<locals>.averager\u001b[0;34m(v)\u001b[0m\n\u001b[1;32m      7\u001b[0m \u001b[39mdef\u001b[39;00m \u001b[39maverager\u001b[39m(v):\n\u001b[0;32m----> 8\u001b[0m     cnt \u001b[39m+\u001b[39m\u001b[39m=\u001b[39m\u001b[39m1\u001b[39m\n\u001b[1;32m      9\u001b[0m     total \u001b[39m+\u001b[39m\u001b[39m=\u001b[39m v\n\u001b[1;32m     10\u001b[0m     \u001b[39mreturn\u001b[39;00m total \u001b[39m/\u001b[39m cnt\n",
      "\u001b[0;31mUnboundLocalError\u001b[0m: local variable 'cnt' referenced before assignment"
     ]
    }
   ],
   "source": [
    "avg_closure2 = closure_ex2()\n",
    "print(avg_closure2(10))"
   ]
  },
  {
   "cell_type": "code",
   "execution_count": 54,
   "metadata": {},
   "outputs": [],
   "source": [
    "def closure_ex3():\n",
    "    # Free variable\n",
    "    # Closure 영역\n",
    "    cnt = 0\n",
    "    total = 0\n",
    "    def averager(v):\n",
    "        nonlocal cnt, total\n",
    "        cnt +=1\n",
    "        total += v\n",
    "        return total / cnt\n",
    "    return averager"
   ]
  },
  {
   "cell_type": "code",
   "execution_count": 55,
   "metadata": {},
   "outputs": [
    {
     "name": "stdout",
     "output_type": "stream",
     "text": [
      "10.0\n",
      "20.0\n",
      "30.0\n"
     ]
    }
   ],
   "source": [
    "avg_closure3 = closure_ex3()\n",
    "print(avg_closure3(10))\n",
    "print(avg_closure3(30))\n",
    "print(avg_closure3(50))"
   ]
  },
  {
   "attachments": {},
   "cell_type": "markdown",
   "metadata": {},
   "source": [
    "## Decorator\n",
    "    - Pros\n",
    "        - 중복 제거, 간결성, 공통 함수 작성\n",
    "        - 로깅, 프레임워크, 유효성 체크 >> 공통 함수\n",
    "        - 조합해서 사용하기 용이함\n",
    "    - Cons\n",
    "        - 가독성 감소의 여지\n",
    "        - 특정 기능에 한정된 함수는 단일 함수로 작성하는 것이 유리\n",
    "        - 디버깅 불편"
   ]
  },
  {
   "cell_type": "code",
   "execution_count": 62,
   "metadata": {},
   "outputs": [],
   "source": [
    "import time"
   ]
  },
  {
   "cell_type": "code",
   "execution_count": 68,
   "metadata": {},
   "outputs": [],
   "source": [
    "def perf_clock(func):\n",
    "    \n",
    "    def perf_clocked(*args):\n",
    "        st = time.perf_counter()\n",
    "        # 함수 실행\n",
    "        result = func(*args)\n",
    "\n",
    "        et = time.perf_counter() - st\n",
    "        name = func.__name__\n",
    "        arg_str = ', '.join(repr(arg) for arg in args)\n",
    "\n",
    "        print('[%0.5fs] %s(%s) -> %r' % (et, name, arg_str, result))\n",
    "        return result\n",
    "    return perf_clocked"
   ]
  },
  {
   "cell_type": "code",
   "execution_count": 69,
   "metadata": {},
   "outputs": [],
   "source": [
    "def time_func(seconds):\n",
    "    time.sleep(seconds)\n",
    "\n",
    "def sum_func(*numbers):\n",
    "    return sum(numbers)"
   ]
  },
  {
   "cell_type": "code",
   "execution_count": 70,
   "metadata": {},
   "outputs": [],
   "source": [
    "# Decorator 미사용\n",
    "none_deco1 = perf_clock(time_func)\n",
    "none_deco2 = perf_clock(sum_func)"
   ]
  },
  {
   "cell_type": "code",
   "execution_count": 71,
   "metadata": {},
   "outputs": [
    {
     "name": "stdout",
     "output_type": "stream",
     "text": [
      "<function perf_clock.<locals>.perf_clocked at 0x117df4dc0> ('func',)\n",
      "<function perf_clock.<locals>.perf_clocked at 0x117d62560> ('func',)\n"
     ]
    }
   ],
   "source": [
    "print(none_deco1, none_deco1.__code__.co_freevars)\n",
    "print(none_deco2, none_deco2.__code__.co_freevars)"
   ]
  },
  {
   "cell_type": "code",
   "execution_count": 72,
   "metadata": {},
   "outputs": [
    {
     "name": "stdout",
     "output_type": "stream",
     "text": [
      "================================================== Called none Decorator\n",
      "[1.50499s] time_func(1.5) -> None\n"
     ]
    }
   ],
   "source": [
    "print(\"=\"*50, 'Called none Decorator')\n",
    "none_deco1(1.5)"
   ]
  },
  {
   "cell_type": "code",
   "execution_count": 73,
   "metadata": {},
   "outputs": [
    {
     "name": "stdout",
     "output_type": "stream",
     "text": [
      "================================================== Called none Decorator\n",
      "[0.00000s] sum_func(100, 200, 300, 500) -> 1100\n"
     ]
    },
    {
     "data": {
      "text/plain": [
       "1100"
      ]
     },
     "execution_count": 73,
     "metadata": {},
     "output_type": "execute_result"
    }
   ],
   "source": [
    "print(\"=\"*50, 'Called none Decorator')\n",
    "none_deco2(100,200,300,500)"
   ]
  },
  {
   "cell_type": "code",
   "execution_count": 74,
   "metadata": {},
   "outputs": [],
   "source": [
    "# With Decorator\n",
    "@perf_clock\n",
    "def time_func(seconds):\n",
    "    time.sleep(seconds)\n",
    "\n",
    "@perf_clock\n",
    "def sum_func(*numbers):\n",
    "    return sum(numbers)"
   ]
  },
  {
   "cell_type": "code",
   "execution_count": 75,
   "metadata": {},
   "outputs": [
    {
     "name": "stdout",
     "output_type": "stream",
     "text": [
      "[1.50344s] time_func(1.5) -> None\n"
     ]
    }
   ],
   "source": [
    "time_func(1.5)"
   ]
  },
  {
   "cell_type": "code",
   "execution_count": 76,
   "metadata": {},
   "outputs": [
    {
     "name": "stdout",
     "output_type": "stream",
     "text": [
      "[0.00000s] sum_func(10, 30, 40, 50, 100, 200) -> 430\n"
     ]
    },
    {
     "data": {
      "text/plain": [
       "430"
      ]
     },
     "execution_count": 76,
     "metadata": {},
     "output_type": "execute_result"
    }
   ],
   "source": [
    "sum_func(10,30,40,50,100,200)"
   ]
  },
  {
   "cell_type": "code",
   "execution_count": null,
   "metadata": {},
   "outputs": [],
   "source": []
  }
 ],
 "metadata": {
  "kernelspec": {
   "display_name": "python_adv",
   "language": "python",
   "name": "python3"
  },
  "language_info": {
   "codemirror_mode": {
    "name": "ipython",
    "version": 3
   },
   "file_extension": ".py",
   "mimetype": "text/x-python",
   "name": "python",
   "nbconvert_exporter": "python",
   "pygments_lexer": "ipython3",
   "version": "3.10.10"
  },
  "orig_nbformat": 4
 },
 "nbformat": 4,
 "nbformat_minor": 2
}
