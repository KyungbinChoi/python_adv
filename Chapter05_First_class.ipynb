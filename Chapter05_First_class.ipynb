{
 "cells": [
  {
   "attachments": {},
   "cell_type": "markdown",
   "metadata": {},
   "source": [
    "## First class (일급함수)\n",
    "### 파이썬 함수 특징\n",
    "    * Runtime 초기화\n",
    "    * 변수 할당 가능\n",
    "    * 함수 인수(parameter) 전달 가능\n",
    "    * 함수 결과 반환 (return)\n"
   ]
  },
  {
   "cell_type": "code",
   "execution_count": 5,
   "metadata": {},
   "outputs": [],
   "source": [
    "def factorial(n):\n",
    "    \"\"\"factorial function\n",
    "\n",
    "    Args:\n",
    "        n (int): integer number\n",
    "    \"\"\"\n",
    "    if n ==1:\n",
    "        return 1\n",
    "    return n * factorial(n-1)\n",
    "\n",
    "class A:\n",
    "    pass"
   ]
  },
  {
   "cell_type": "code",
   "execution_count": 6,
   "metadata": {},
   "outputs": [
    {
     "name": "stdout",
     "output_type": "stream",
     "text": [
      "120\n"
     ]
    }
   ],
   "source": [
    "print(factorial(5))"
   ]
  },
  {
   "cell_type": "code",
   "execution_count": 7,
   "metadata": {},
   "outputs": [
    {
     "name": "stdout",
     "output_type": "stream",
     "text": [
      "factorial function\n",
      "\n",
      "    Args:\n",
      "        n (int): integer number\n",
      "    \n",
      "<class 'function'> <class 'type'>\n"
     ]
    }
   ],
   "source": [
    "print(factorial.__doc__)\n",
    "print(type(factorial), type(A))"
   ]
  },
  {
   "cell_type": "code",
   "execution_count": 10,
   "metadata": {},
   "outputs": [
    {
     "name": "stdout",
     "output_type": "stream",
     "text": [
      "['__annotations__', '__builtins__', '__call__', '__class__', '__closure__', '__code__', '__defaults__', '__delattr__', '__dict__', '__dir__', '__doc__', '__eq__', '__format__', '__ge__', '__get__', '__getattribute__', '__globals__', '__gt__', '__hash__', '__init__', '__init_subclass__', '__kwdefaults__', '__le__', '__lt__', '__module__', '__name__', '__ne__', '__new__', '__qualname__', '__reduce__', '__reduce_ex__', '__repr__', '__setattr__', '__sizeof__', '__str__', '__subclasshook__']\n",
      "{'__globals__', '__annotations__', '__get__', '__code__', '__closure__', '__builtins__', '__kwdefaults__', '__name__', '__qualname__', '__call__', '__defaults__'}\n"
     ]
    }
   ],
   "source": [
    "print(dir(factorial))\n",
    "print(set(sorted(dir(factorial))) - set(sorted(dir(A)))) # 함수 이지만 객체 취급"
   ]
  },
  {
   "cell_type": "code",
   "execution_count": 11,
   "metadata": {},
   "outputs": [
    {
     "name": "stdout",
     "output_type": "stream",
     "text": [
      "factorial\n"
     ]
    }
   ],
   "source": [
    "print(factorial.__name__)"
   ]
  },
  {
   "cell_type": "code",
   "execution_count": null,
   "metadata": {},
   "outputs": [],
   "source": []
  },
  {
   "cell_type": "code",
   "execution_count": null,
   "metadata": {},
   "outputs": [],
   "source": []
  },
  {
   "cell_type": "code",
   "execution_count": null,
   "metadata": {},
   "outputs": [],
   "source": []
  },
  {
   "attachments": {},
   "cell_type": "markdown",
   "metadata": {},
   "source": [
    "### Lambda (익명함수)\n",
    "### Callable\n",
    "### Partial 사용법"
   ]
  }
 ],
 "metadata": {
  "kernelspec": {
   "display_name": "python_adv",
   "language": "python",
   "name": "python3"
  },
  "language_info": {
   "codemirror_mode": {
    "name": "ipython",
    "version": 3
   },
   "file_extension": ".py",
   "mimetype": "text/x-python",
   "name": "python",
   "nbconvert_exporter": "python",
   "pygments_lexer": "ipython3",
   "version": "3.10.10"
  },
  "orig_nbformat": 4
 },
 "nbformat": 4,
 "nbformat_minor": 2
}
