{
 "cells": [
  {
   "attachments": {},
   "cell_type": "markdown",
   "metadata": {},
   "source": [
    "## Concurrency\n",
    "- 병행성, 흐름제어\n",
    "- Iterator & Generator\n",
    "    - Itarable object in python\n",
    "        - collections, text file, list, dict, set, tuple, unpacking, *args ... \n",
    "    - generator : iterator를 생성해주는 함수, 함수안에 yield 키워드를 사용함\n",
    "    - genrator 특징\n",
    "        - iterable한 순서가 지정됨(모든 generator는 iterator)\n",
    "        - 느슨하게 평가된다.(순서의 다음 값은 필요에 따라 계산됨)\n",
    "        - 함수의 내부 로컬 변수를 통해 내부상태가 유지된다.\n",
    "        - 무한한 순서가 있는 객체를 모델링할 수 있다.(명확한 끝이 없는 데이터 스트림)\n",
    "        - 자연스러운 스트림 처리를 위 파이프라인으로 구성할수 있다.\n",
    "- \\_\\_iter_\\_, \\_\\_next_\\_\n",
    "- Class 기반 Generator 구현"
   ]
  },
  {
   "cell_type": "code",
   "execution_count": 1,
   "metadata": {},
   "outputs": [
    {
     "name": "stdout",
     "output_type": "stream",
     "text": [
      "['__add__', '__class__', '__contains__', '__delattr__', '__dir__', '__doc__', '__eq__', '__format__', '__ge__', '__getattribute__', '__getitem__', '__getnewargs__', '__gt__', '__hash__', '__init__', '__init_subclass__', '__iter__', '__le__', '__len__', '__lt__', '__mod__', '__mul__', '__ne__', '__new__', '__reduce__', '__reduce_ex__', '__repr__', '__rmod__', '__rmul__', '__setattr__', '__sizeof__', '__str__', '__subclasshook__', 'capitalize', 'casefold', 'center', 'count', 'encode', 'endswith', 'expandtabs', 'find', 'format', 'format_map', 'index', 'isalnum', 'isalpha', 'isascii', 'isdecimal', 'isdigit', 'isidentifier', 'islower', 'isnumeric', 'isprintable', 'isspace', 'istitle', 'isupper', 'join', 'ljust', 'lower', 'lstrip', 'maketrans', 'partition', 'removeprefix', 'removesuffix', 'replace', 'rfind', 'rindex', 'rjust', 'rpartition', 'rsplit', 'rstrip', 'split', 'splitlines', 'startswith', 'strip', 'swapcase', 'title', 'translate', 'upper', 'zfill']\n"
     ]
    }
   ],
   "source": [
    "t= \"adskjflkjkjwlfjoiqonmc\"\n",
    "print(dir(t))"
   ]
  },
  {
   "cell_type": "code",
   "execution_count": 2,
   "metadata": {},
   "outputs": [
    {
     "name": "stdout",
     "output_type": "stream",
     "text": [
      "a\n",
      "d\n",
      "s\n",
      "k\n",
      "j\n",
      "f\n",
      "l\n",
      "k\n",
      "j\n",
      "k\n",
      "j\n",
      "w\n",
      "l\n",
      "f\n",
      "j\n",
      "o\n",
      "i\n",
      "q\n",
      "o\n",
      "n\n",
      "m\n",
      "c\n"
     ]
    }
   ],
   "source": [
    "for c in t:\n",
    "    print(c)"
   ]
  },
  {
   "cell_type": "code",
   "execution_count": 3,
   "metadata": {},
   "outputs": [
    {
     "name": "stdout",
     "output_type": "stream",
     "text": [
      "a\n"
     ]
    }
   ],
   "source": [
    "w= iter(t)\n",
    "print(next(w))\n"
   ]
  },
  {
   "cell_type": "code",
   "execution_count": 4,
   "metadata": {},
   "outputs": [
    {
     "name": "stdout",
     "output_type": "stream",
     "text": [
      "d\n",
      "s\n",
      "k\n"
     ]
    }
   ],
   "source": [
    "print(next(w))\n",
    "print(next(w))\n",
    "print(next(w))"
   ]
  },
  {
   "cell_type": "code",
   "execution_count": 5,
   "metadata": {},
   "outputs": [
    {
     "name": "stdout",
     "output_type": "stream",
     "text": [
      "j\n",
      "f\n",
      "l\n",
      "k\n",
      "j\n",
      "k\n",
      "j\n",
      "w\n",
      "l\n",
      "f\n",
      "j\n",
      "o\n",
      "i\n",
      "q\n",
      "o\n",
      "n\n",
      "m\n",
      "c\n"
     ]
    }
   ],
   "source": [
    "# for 문의 매커니즘\n",
    "while True:\n",
    "    try:\n",
    "        print(next(w))\n",
    "    except StopIteration:\n",
    "        break"
   ]
  },
  {
   "cell_type": "code",
   "execution_count": 6,
   "metadata": {},
   "outputs": [
    {
     "name": "stdout",
     "output_type": "stream",
     "text": [
      "True\n"
     ]
    }
   ],
   "source": [
    "# 반복형의 확인\n",
    "print(hasattr(t, '__iter__'))"
   ]
  },
  {
   "cell_type": "code",
   "execution_count": 7,
   "metadata": {},
   "outputs": [
    {
     "name": "stdout",
     "output_type": "stream",
     "text": [
      "True\n"
     ]
    }
   ],
   "source": [
    "# 반복형의 확인\n",
    "from collections import abc\n",
    "print(isinstance(t, abc.Iterable))"
   ]
  },
  {
   "cell_type": "code",
   "execution_count": 8,
   "metadata": {},
   "outputs": [],
   "source": [
    "# class 기반 generator\n",
    "class WordSplitter:\n",
    "    def __init__(self, text) -> None:\n",
    "        self._idx = 0\n",
    "        self._text = text.split(' ')\n",
    "    \n",
    "    # magic method\n",
    "    def __next__(self):\n",
    "        # print('Called __next__')\n",
    "        try:\n",
    "            word = self._text[self._idx]\n",
    "        except IndexError:\n",
    "            raise StopIteration('Stopped Iteration!!!')\n",
    "        self._idx += 1\n",
    "        return word\n",
    "    \n",
    "    def __repr__(self):\n",
    "        return 'WordSplit (%s)' % (self._text)"
   ]
  },
  {
   "cell_type": "code",
   "execution_count": 9,
   "metadata": {},
   "outputs": [
    {
     "name": "stdout",
     "output_type": "stream",
     "text": [
      "WordSplit (['Do', 'today', 'what', 'you', 'could', 'od', 'tommorrow'])\n"
     ]
    }
   ],
   "source": [
    "wq = WordSplitter('Do today what you could od tommorrow')\n",
    "print(wq)"
   ]
  },
  {
   "cell_type": "code",
   "execution_count": 10,
   "metadata": {},
   "outputs": [
    {
     "name": "stdout",
     "output_type": "stream",
     "text": [
      "Do\n",
      "today\n",
      "what\n",
      "you\n",
      "could\n",
      "od\n",
      "tommorrow\n"
     ]
    },
    {
     "ename": "StopIteration",
     "evalue": "Stopped Iteration!!!",
     "output_type": "error",
     "traceback": [
      "\u001b[0;31m---------------------------------------------------------------------------\u001b[0m",
      "\u001b[0;31mIndexError\u001b[0m                                Traceback (most recent call last)",
      "Cell \u001b[0;32mIn[8], line 11\u001b[0m, in \u001b[0;36mWordSplitter.__next__\u001b[0;34m(self)\u001b[0m\n\u001b[1;32m     10\u001b[0m \u001b[39mtry\u001b[39;00m:\n\u001b[0;32m---> 11\u001b[0m     word \u001b[39m=\u001b[39m \u001b[39mself\u001b[39;49m\u001b[39m.\u001b[39;49m_text[\u001b[39mself\u001b[39;49m\u001b[39m.\u001b[39;49m_idx]\n\u001b[1;32m     12\u001b[0m \u001b[39mexcept\u001b[39;00m \u001b[39mIndexError\u001b[39;00m:\n",
      "\u001b[0;31mIndexError\u001b[0m: list index out of range",
      "\nDuring handling of the above exception, another exception occurred:\n",
      "\u001b[0;31mStopIteration\u001b[0m                             Traceback (most recent call last)",
      "Cell \u001b[0;32mIn[10], line 8\u001b[0m\n\u001b[1;32m      6\u001b[0m \u001b[39mprint\u001b[39m(\u001b[39mnext\u001b[39m(wq))\n\u001b[1;32m      7\u001b[0m \u001b[39mprint\u001b[39m(\u001b[39mnext\u001b[39m(wq))\n\u001b[0;32m----> 8\u001b[0m \u001b[39mprint\u001b[39m(\u001b[39mnext\u001b[39;49m(wq))\n",
      "Cell \u001b[0;32mIn[8], line 13\u001b[0m, in \u001b[0;36mWordSplitter.__next__\u001b[0;34m(self)\u001b[0m\n\u001b[1;32m     11\u001b[0m     word \u001b[39m=\u001b[39m \u001b[39mself\u001b[39m\u001b[39m.\u001b[39m_text[\u001b[39mself\u001b[39m\u001b[39m.\u001b[39m_idx]\n\u001b[1;32m     12\u001b[0m \u001b[39mexcept\u001b[39;00m \u001b[39mIndexError\u001b[39;00m:\n\u001b[0;32m---> 13\u001b[0m     \u001b[39mraise\u001b[39;00m \u001b[39mStopIteration\u001b[39;00m(\u001b[39m'\u001b[39m\u001b[39mStopped Iteration!!!\u001b[39m\u001b[39m'\u001b[39m)\n\u001b[1;32m     14\u001b[0m \u001b[39mself\u001b[39m\u001b[39m.\u001b[39m_idx \u001b[39m+\u001b[39m\u001b[39m=\u001b[39m \u001b[39m1\u001b[39m\n\u001b[1;32m     15\u001b[0m \u001b[39mreturn\u001b[39;00m word\n",
      "\u001b[0;31mStopIteration\u001b[0m: Stopped Iteration!!!"
     ]
    }
   ],
   "source": [
    "print(next(wq))\n",
    "print(next(wq))\n",
    "print(next(wq))\n",
    "print(next(wq))\n",
    "print(next(wq))\n",
    "print(next(wq))\n",
    "print(next(wq))\n",
    "print(next(wq))"
   ]
  },
  {
   "cell_type": "code",
   "execution_count": 11,
   "metadata": {},
   "outputs": [],
   "source": [
    "# Generator\n",
    "# 1. 지능형 리스트, 딕셔너리, 집합 -> 데이터 양 증가 후 메모리 사량 증가 -> Generator 사용 권장\n",
    "# 2. 단위 실행이 가능한 코루틴(Coroutine) 구현과 연동\n",
    "# 3. 작은 메모리 조각 사용\n",
    "class WordSplitterGenerator:\n",
    "    def __init__(self,text) -> None:\n",
    "        self._text = text.split(' ')\n",
    "    \n",
    "    def __iter__(self):\n",
    "        for word in self._text:\n",
    "            yield word # generator, 다음에 반환할 값의 위치값을 기억하는 역할 수행\n",
    "        return\n",
    "    \n",
    "    def __repr__(self):\n",
    "        return 'WordSplitGenerator (%s)' % (self._text)"
   ]
  },
  {
   "cell_type": "code",
   "execution_count": 12,
   "metadata": {},
   "outputs": [
    {
     "name": "stdout",
     "output_type": "stream",
     "text": [
      "WordSplitGenerator (['Do', 'today', 'what', 'you', 'could', 'od', 'tommorrow'])\n"
     ]
    }
   ],
   "source": [
    "wg = WordSplitterGenerator('Do today what you could od tommorrow')\n",
    "print(wg)"
   ]
  },
  {
   "cell_type": "code",
   "execution_count": 13,
   "metadata": {},
   "outputs": [
    {
     "name": "stdout",
     "output_type": "stream",
     "text": [
      "<generator object WordSplitterGenerator.__iter__ at 0x1054b75a0> WordSplitGenerator (['Do', 'today', 'what', 'you', 'could', 'od', 'tommorrow'])\n"
     ]
    }
   ],
   "source": [
    "wt = iter(wg)\n",
    "print(wt, wg)"
   ]
  },
  {
   "cell_type": "code",
   "execution_count": 14,
   "metadata": {},
   "outputs": [
    {
     "name": "stdout",
     "output_type": "stream",
     "text": [
      "Do\n",
      "today\n",
      "what\n",
      "you\n",
      "could\n",
      "od\n",
      "tommorrow\n"
     ]
    },
    {
     "ename": "StopIteration",
     "evalue": "",
     "output_type": "error",
     "traceback": [
      "\u001b[0;31m---------------------------------------------------------------------------\u001b[0m",
      "\u001b[0;31mStopIteration\u001b[0m                             Traceback (most recent call last)",
      "Cell \u001b[0;32mIn[14], line 8\u001b[0m\n\u001b[1;32m      6\u001b[0m \u001b[39mprint\u001b[39m(\u001b[39mnext\u001b[39m(wt))\n\u001b[1;32m      7\u001b[0m \u001b[39mprint\u001b[39m(\u001b[39mnext\u001b[39m(wt))\n\u001b[0;32m----> 8\u001b[0m \u001b[39mprint\u001b[39m(\u001b[39mnext\u001b[39;49m(wt))\n",
      "\u001b[0;31mStopIteration\u001b[0m: "
     ]
    }
   ],
   "source": [
    "print(next(wt))\n",
    "print(next(wt))\n",
    "print(next(wt))\n",
    "print(next(wt))\n",
    "print(next(wt))\n",
    "print(next(wt))\n",
    "print(next(wt))\n",
    "print(next(wt))"
   ]
  },
  {
   "attachments": {},
   "cell_type": "markdown",
   "metadata": {},
   "source": [
    "### Yield & Itertools 실습\n",
    "- 병행성 Concurrency\n",
    "    - 한 worker가 여러 일을 동시에 수행\n",
    "    - 단일 프로그램 안에서 여러 일을 효율적으로 수행하기 위함\n",
    "- 병렬성 Parallelism\n",
    "    - 여러 worker가 여러 작업을 동시에 수행\n",
    "    - 속도 면에서 효율성을 가져오기 위함"
   ]
  },
  {
   "cell_type": "code",
   "execution_count": 15,
   "metadata": {},
   "outputs": [],
   "source": [
    "def generator_ex1():\n",
    "    print('start')\n",
    "    yield 'A point'\n",
    "    print('continue')\n",
    "    yield 'B point'\n",
    "    print('End')\n",
    "\n",
    "tmp = iter(generator_ex1())"
   ]
  },
  {
   "cell_type": "code",
   "execution_count": 16,
   "metadata": {},
   "outputs": [
    {
     "name": "stdout",
     "output_type": "stream",
     "text": [
      "<generator object generator_ex1 at 0x1054b7680>\n"
     ]
    }
   ],
   "source": [
    "print(tmp)"
   ]
  },
  {
   "cell_type": "code",
   "execution_count": 17,
   "metadata": {},
   "outputs": [
    {
     "name": "stdout",
     "output_type": "stream",
     "text": [
      "start\n",
      "A point\n"
     ]
    }
   ],
   "source": [
    "print(next(tmp))"
   ]
  },
  {
   "cell_type": "code",
   "execution_count": 18,
   "metadata": {},
   "outputs": [
    {
     "name": "stdout",
     "output_type": "stream",
     "text": [
      "continue\n",
      "B point\n"
     ]
    }
   ],
   "source": [
    "print(next(tmp))"
   ]
  },
  {
   "cell_type": "code",
   "execution_count": 19,
   "metadata": {},
   "outputs": [
    {
     "name": "stdout",
     "output_type": "stream",
     "text": [
      "End\n"
     ]
    },
    {
     "ename": "StopIteration",
     "evalue": "",
     "output_type": "error",
     "traceback": [
      "\u001b[0;31m---------------------------------------------------------------------------\u001b[0m",
      "\u001b[0;31mStopIteration\u001b[0m                             Traceback (most recent call last)",
      "Cell \u001b[0;32mIn[19], line 1\u001b[0m\n\u001b[0;32m----> 1\u001b[0m \u001b[39mprint\u001b[39m(\u001b[39mnext\u001b[39;49m(tmp))\n",
      "\u001b[0;31mStopIteration\u001b[0m: "
     ]
    }
   ],
   "source": [
    "print(next(tmp))"
   ]
  },
  {
   "cell_type": "code",
   "execution_count": 20,
   "metadata": {},
   "outputs": [
    {
     "name": "stdout",
     "output_type": "stream",
     "text": [
      "start\n",
      "A point\n",
      "continue\n",
      "B point\n",
      "End\n"
     ]
    }
   ],
   "source": [
    "for v in generator_ex1():\n",
    "    print(v)"
   ]
  },
  {
   "cell_type": "code",
   "execution_count": 21,
   "metadata": {},
   "outputs": [
    {
     "name": "stdout",
     "output_type": "stream",
     "text": [
      "start\n",
      "continue\n",
      "End\n"
     ]
    }
   ],
   "source": [
    "temp1 = [x*3 for x in generator_ex1()]\n",
    "temp2 = (x*3 for x in generator_ex1())"
   ]
  },
  {
   "cell_type": "code",
   "execution_count": 22,
   "metadata": {},
   "outputs": [
    {
     "name": "stdout",
     "output_type": "stream",
     "text": [
      "A pointA pointA point\n",
      "B pointB pointB point\n"
     ]
    }
   ],
   "source": [
    "for i in temp1:\n",
    "    print(i)"
   ]
  },
  {
   "cell_type": "code",
   "execution_count": 23,
   "metadata": {},
   "outputs": [
    {
     "name": "stdout",
     "output_type": "stream",
     "text": [
      "start\n",
      "A pointA pointA point\n",
      "continue\n",
      "B pointB pointB point\n",
      "End\n"
     ]
    }
   ],
   "source": [
    "for i in temp2:\n",
    "    print(i)"
   ]
  },
  {
   "cell_type": "code",
   "execution_count": 24,
   "metadata": {},
   "outputs": [],
   "source": [
    "# Generator 내 주요 함수\n",
    "# count, takewhile, filterfalse, accumulate, chain, product, groupby"
   ]
  },
  {
   "cell_type": "code",
   "execution_count": 25,
   "metadata": {},
   "outputs": [],
   "source": [
    "import itertools"
   ]
  },
  {
   "cell_type": "code",
   "execution_count": 26,
   "metadata": {},
   "outputs": [
    {
     "name": "stdout",
     "output_type": "stream",
     "text": [
      "1\n",
      "3.5\n",
      "6.0\n",
      "8.5\n"
     ]
    }
   ],
   "source": [
    "gen1 = itertools.count(1, 2.5) # 무한대로 생성\n",
    "print(next(gen1))\n",
    "print(next(gen1))\n",
    "print(next(gen1))\n",
    "print(next(gen1))"
   ]
  },
  {
   "cell_type": "code",
   "execution_count": 27,
   "metadata": {},
   "outputs": [
    {
     "name": "stdout",
     "output_type": "stream",
     "text": [
      "1\n",
      "3.5\n",
      "6.0\n",
      "8.5\n",
      "11.0\n",
      "13.5\n",
      "16.0\n",
      "18.5\n",
      "21.0\n",
      "23.5\n",
      "26.0\n",
      "28.5\n",
      "31.0\n",
      "33.5\n",
      "36.0\n",
      "38.5\n",
      "41.0\n",
      "43.5\n",
      "46.0\n",
      "48.5\n",
      "51.0\n",
      "53.5\n",
      "56.0\n",
      "58.5\n",
      "61.0\n",
      "63.5\n",
      "66.0\n",
      "68.5\n",
      "71.0\n",
      "73.5\n",
      "76.0\n",
      "78.5\n",
      "81.0\n",
      "83.5\n",
      "86.0\n",
      "88.5\n",
      "91.0\n",
      "93.5\n",
      "96.0\n",
      "98.5\n",
      "101.0\n",
      "103.5\n",
      "106.0\n",
      "108.5\n",
      "111.0\n",
      "113.5\n",
      "116.0\n",
      "118.5\n",
      "121.0\n",
      "123.5\n",
      "126.0\n",
      "128.5\n",
      "131.0\n",
      "133.5\n",
      "136.0\n",
      "138.5\n",
      "141.0\n",
      "143.5\n",
      "146.0\n",
      "148.5\n",
      "151.0\n",
      "153.5\n",
      "156.0\n",
      "158.5\n",
      "161.0\n",
      "163.5\n",
      "166.0\n",
      "168.5\n",
      "171.0\n",
      "173.5\n",
      "176.0\n",
      "178.5\n",
      "181.0\n",
      "183.5\n",
      "186.0\n",
      "188.5\n",
      "191.0\n",
      "193.5\n",
      "196.0\n",
      "198.5\n",
      "201.0\n",
      "203.5\n",
      "206.0\n",
      "208.5\n",
      "211.0\n",
      "213.5\n",
      "216.0\n",
      "218.5\n",
      "221.0\n",
      "223.5\n",
      "226.0\n",
      "228.5\n",
      "231.0\n",
      "233.5\n",
      "236.0\n",
      "238.5\n",
      "241.0\n",
      "243.5\n",
      "246.0\n",
      "248.5\n",
      "251.0\n",
      "253.5\n",
      "256.0\n",
      "258.5\n",
      "261.0\n",
      "263.5\n",
      "266.0\n",
      "268.5\n",
      "271.0\n",
      "273.5\n",
      "276.0\n",
      "278.5\n",
      "281.0\n",
      "283.5\n",
      "286.0\n",
      "288.5\n",
      "291.0\n",
      "293.5\n",
      "296.0\n",
      "298.5\n",
      "301.0\n",
      "303.5\n",
      "306.0\n",
      "308.5\n",
      "311.0\n",
      "313.5\n",
      "316.0\n",
      "318.5\n",
      "321.0\n",
      "323.5\n",
      "326.0\n",
      "328.5\n",
      "331.0\n",
      "333.5\n",
      "336.0\n",
      "338.5\n",
      "341.0\n",
      "343.5\n",
      "346.0\n",
      "348.5\n",
      "351.0\n",
      "353.5\n",
      "356.0\n",
      "358.5\n",
      "361.0\n",
      "363.5\n",
      "366.0\n",
      "368.5\n",
      "371.0\n",
      "373.5\n",
      "376.0\n",
      "378.5\n",
      "381.0\n",
      "383.5\n",
      "386.0\n",
      "388.5\n",
      "391.0\n",
      "393.5\n",
      "396.0\n",
      "398.5\n",
      "401.0\n",
      "403.5\n",
      "406.0\n",
      "408.5\n",
      "411.0\n",
      "413.5\n",
      "416.0\n",
      "418.5\n",
      "421.0\n",
      "423.5\n",
      "426.0\n",
      "428.5\n",
      "431.0\n",
      "433.5\n",
      "436.0\n",
      "438.5\n",
      "441.0\n",
      "443.5\n",
      "446.0\n",
      "448.5\n",
      "451.0\n",
      "453.5\n",
      "456.0\n",
      "458.5\n",
      "461.0\n",
      "463.5\n",
      "466.0\n",
      "468.5\n",
      "471.0\n",
      "473.5\n",
      "476.0\n",
      "478.5\n",
      "481.0\n",
      "483.5\n",
      "486.0\n",
      "488.5\n",
      "491.0\n",
      "493.5\n",
      "496.0\n",
      "498.5\n",
      "501.0\n",
      "503.5\n",
      "506.0\n",
      "508.5\n",
      "511.0\n",
      "513.5\n",
      "516.0\n",
      "518.5\n",
      "521.0\n",
      "523.5\n",
      "526.0\n",
      "528.5\n",
      "531.0\n",
      "533.5\n",
      "536.0\n",
      "538.5\n",
      "541.0\n",
      "543.5\n",
      "546.0\n",
      "548.5\n",
      "551.0\n",
      "553.5\n",
      "556.0\n",
      "558.5\n",
      "561.0\n",
      "563.5\n",
      "566.0\n",
      "568.5\n",
      "571.0\n",
      "573.5\n",
      "576.0\n",
      "578.5\n",
      "581.0\n",
      "583.5\n",
      "586.0\n",
      "588.5\n",
      "591.0\n",
      "593.5\n",
      "596.0\n",
      "598.5\n",
      "601.0\n",
      "603.5\n",
      "606.0\n",
      "608.5\n",
      "611.0\n",
      "613.5\n",
      "616.0\n",
      "618.5\n",
      "621.0\n",
      "623.5\n",
      "626.0\n",
      "628.5\n",
      "631.0\n",
      "633.5\n",
      "636.0\n",
      "638.5\n",
      "641.0\n",
      "643.5\n",
      "646.0\n",
      "648.5\n",
      "651.0\n",
      "653.5\n",
      "656.0\n",
      "658.5\n",
      "661.0\n",
      "663.5\n",
      "666.0\n",
      "668.5\n",
      "671.0\n",
      "673.5\n",
      "676.0\n",
      "678.5\n",
      "681.0\n",
      "683.5\n",
      "686.0\n",
      "688.5\n",
      "691.0\n",
      "693.5\n",
      "696.0\n",
      "698.5\n",
      "701.0\n",
      "703.5\n",
      "706.0\n",
      "708.5\n",
      "711.0\n",
      "713.5\n",
      "716.0\n",
      "718.5\n",
      "721.0\n",
      "723.5\n",
      "726.0\n",
      "728.5\n",
      "731.0\n",
      "733.5\n",
      "736.0\n",
      "738.5\n",
      "741.0\n",
      "743.5\n",
      "746.0\n",
      "748.5\n",
      "751.0\n",
      "753.5\n",
      "756.0\n",
      "758.5\n",
      "761.0\n",
      "763.5\n",
      "766.0\n",
      "768.5\n",
      "771.0\n",
      "773.5\n",
      "776.0\n",
      "778.5\n",
      "781.0\n",
      "783.5\n",
      "786.0\n",
      "788.5\n",
      "791.0\n",
      "793.5\n",
      "796.0\n",
      "798.5\n",
      "801.0\n",
      "803.5\n",
      "806.0\n",
      "808.5\n",
      "811.0\n",
      "813.5\n",
      "816.0\n",
      "818.5\n",
      "821.0\n",
      "823.5\n",
      "826.0\n",
      "828.5\n",
      "831.0\n",
      "833.5\n",
      "836.0\n",
      "838.5\n",
      "841.0\n",
      "843.5\n",
      "846.0\n",
      "848.5\n",
      "851.0\n",
      "853.5\n",
      "856.0\n",
      "858.5\n",
      "861.0\n",
      "863.5\n",
      "866.0\n",
      "868.5\n",
      "871.0\n",
      "873.5\n",
      "876.0\n",
      "878.5\n",
      "881.0\n",
      "883.5\n",
      "886.0\n",
      "888.5\n",
      "891.0\n",
      "893.5\n",
      "896.0\n",
      "898.5\n",
      "901.0\n",
      "903.5\n",
      "906.0\n",
      "908.5\n",
      "911.0\n",
      "913.5\n",
      "916.0\n",
      "918.5\n",
      "921.0\n",
      "923.5\n",
      "926.0\n",
      "928.5\n",
      "931.0\n",
      "933.5\n",
      "936.0\n",
      "938.5\n",
      "941.0\n",
      "943.5\n",
      "946.0\n",
      "948.5\n",
      "951.0\n",
      "953.5\n",
      "956.0\n",
      "958.5\n",
      "961.0\n",
      "963.5\n",
      "966.0\n",
      "968.5\n",
      "971.0\n",
      "973.5\n",
      "976.0\n",
      "978.5\n",
      "981.0\n",
      "983.5\n",
      "986.0\n",
      "988.5\n",
      "991.0\n",
      "993.5\n",
      "996.0\n",
      "998.5\n"
     ]
    }
   ],
   "source": [
    "# 조건을 받아서 생성\n",
    "gen2 = itertools.takewhile(lambda x:x < 1000, itertools.count(1, 2.5)) \n",
    "for v in gen2:\n",
    "    print(v)"
   ]
  },
  {
   "cell_type": "code",
   "execution_count": 28,
   "metadata": {},
   "outputs": [
    {
     "name": "stdout",
     "output_type": "stream",
     "text": [
      "50\n",
      "20\n"
     ]
    }
   ],
   "source": [
    "# 조건의 false 에 해당하는 값의 생성\n",
    "gen3 = itertools.filterfalse(lambda x:x <10, [1,2,4,50,20,9,3])\n",
    "for v in gen3:\n",
    "    print(v)"
   ]
  },
  {
   "cell_type": "code",
   "execution_count": 29,
   "metadata": {},
   "outputs": [
    {
     "name": "stdout",
     "output_type": "stream",
     "text": [
      "1\n",
      "3\n",
      "6\n",
      "10\n",
      "15\n",
      "21\n",
      "28\n",
      "36\n",
      "45\n",
      "55\n",
      "66\n",
      "78\n",
      "91\n",
      "105\n",
      "120\n",
      "136\n",
      "153\n",
      "171\n",
      "190\n",
      "210\n",
      "231\n",
      "253\n",
      "276\n",
      "300\n",
      "325\n",
      "351\n",
      "378\n",
      "406\n",
      "435\n",
      "465\n",
      "496\n",
      "528\n",
      "561\n",
      "595\n",
      "630\n",
      "666\n",
      "703\n",
      "741\n",
      "780\n",
      "820\n",
      "861\n",
      "903\n",
      "946\n",
      "990\n",
      "1035\n",
      "1081\n",
      "1128\n",
      "1176\n",
      "1225\n",
      "1275\n",
      "1326\n",
      "1378\n",
      "1431\n",
      "1485\n",
      "1540\n",
      "1596\n",
      "1653\n",
      "1711\n",
      "1770\n",
      "1830\n",
      "1891\n",
      "1953\n",
      "2016\n",
      "2080\n",
      "2145\n",
      "2211\n",
      "2278\n",
      "2346\n",
      "2415\n",
      "2485\n",
      "2556\n",
      "2628\n",
      "2701\n",
      "2775\n",
      "2850\n",
      "2926\n",
      "3003\n",
      "3081\n",
      "3160\n",
      "3240\n",
      "3321\n",
      "3403\n",
      "3486\n",
      "3570\n",
      "3655\n",
      "3741\n",
      "3828\n",
      "3916\n",
      "4005\n",
      "4095\n",
      "4186\n",
      "4278\n",
      "4371\n",
      "4465\n",
      "4560\n",
      "4656\n",
      "4753\n",
      "4851\n",
      "4950\n",
      "5050\n"
     ]
    }
   ],
   "source": [
    "# 누적 합계의 생성\n",
    "gen4 = itertools.accumulate([x for x in range(1,101)])\n",
    "for v in gen4:\n",
    "    print(v)"
   ]
  },
  {
   "cell_type": "code",
   "execution_count": 30,
   "metadata": {},
   "outputs": [
    {
     "name": "stdout",
     "output_type": "stream",
     "text": [
      "['A', 'B', 'C', 'D', 'E', 1, 3, 5, 7, 9]\n"
     ]
    }
   ],
   "source": [
    "# 연결해서 생성\n",
    "gen5 = itertools.chain('ABCDE', range(1,11,2))\n",
    "print(list(gen5))"
   ]
  },
  {
   "cell_type": "code",
   "execution_count": 31,
   "metadata": {},
   "outputs": [
    {
     "name": "stdout",
     "output_type": "stream",
     "text": [
      "[(0, 'a'), (1, 'b'), (2, 'c'), (3, 'd'), (4, 'e')]\n"
     ]
    }
   ],
   "source": [
    "gen6 = itertools.chain(enumerate('abcde'))\n",
    "print(list(gen6))"
   ]
  },
  {
   "cell_type": "code",
   "execution_count": 32,
   "metadata": {},
   "outputs": [
    {
     "name": "stdout",
     "output_type": "stream",
     "text": [
      "[('A',), ('B',), ('C',), ('D',), ('E',)]\n"
     ]
    }
   ],
   "source": [
    "# 개별로 분리해 생성\n",
    "gen7 = itertools.product('ABCDE')\n",
    "print(list(gen7))"
   ]
  },
  {
   "cell_type": "code",
   "execution_count": 33,
   "metadata": {},
   "outputs": [
    {
     "name": "stdout",
     "output_type": "stream",
     "text": [
      "[('A', 'A'), ('A', 'B'), ('A', 'C'), ('A', 'D'), ('A', 'E'), ('B', 'A'), ('B', 'B'), ('B', 'C'), ('B', 'D'), ('B', 'E'), ('C', 'A'), ('C', 'B'), ('C', 'C'), ('C', 'D'), ('C', 'E'), ('D', 'A'), ('D', 'B'), ('D', 'C'), ('D', 'D'), ('D', 'E'), ('E', 'A'), ('E', 'B'), ('E', 'C'), ('E', 'D'), ('E', 'E')]\n"
     ]
    }
   ],
   "source": [
    "gen8 = itertools.product('ABCDE', repeat=2) #combination\n",
    "print(list(gen8))"
   ]
  },
  {
   "cell_type": "code",
   "execution_count": 34,
   "metadata": {},
   "outputs": [],
   "source": [
    "# grouping 생성\n",
    "gen9 = itertools.groupby('AAAABBBCCCDDDEEEEGGG')\n",
    "# print(list(gen9))"
   ]
  },
  {
   "cell_type": "code",
   "execution_count": 35,
   "metadata": {},
   "outputs": [
    {
     "name": "stdout",
     "output_type": "stream",
     "text": [
      "A : ['A', 'A', 'A', 'A']\n",
      "B : ['B', 'B', 'B']\n",
      "C : ['C', 'C', 'C']\n",
      "D : ['D', 'D', 'D']\n",
      "E : ['E', 'E', 'E', 'E']\n",
      "G : ['G', 'G', 'G']\n"
     ]
    }
   ],
   "source": [
    "for chr, group in gen9:\n",
    "    print(chr, ':', list(group))"
   ]
  },
  {
   "attachments": {},
   "cell_type": "markdown",
   "metadata": {},
   "source": [
    "* Thread : OS 가 관리 주체. CPU core 에서 실시간, 시분할 비동기 작업을 가능케 함\n",
    "* Coroutine : 단일 (single) thread 기반. Stack 을 기반으로 동작하는 비동기 작업을 가능케 함\n",
    "* Yield, send : 메인 <-> 서브 \n",
    "    - coroutine 제어, 상태, 양방향 전송\n",
    "    - sub-routine : main routine 호출 ->  sub-routine 에서 수행 (흐름 제어)\n",
    "    - coroutine : routine 실행 중 중지 -> 동시성 프로그래밍\n",
    "    - Thread 에 비해 오버헤드 감소\n",
    "    - Thread : 복잡. 자원을 공유하기 때문에 교착 상태 발생 가능성. 컨텍스트 스위칭 비용 발생. 자원 소비 가능성 증가\n",
    "* def -> async , yield -> await (python >= 3.5)"
   ]
  },
  {
   "cell_type": "code",
   "execution_count": 36,
   "metadata": {},
   "outputs": [],
   "source": [
    "# Ex1\n",
    "def coroutine1():\n",
    "    print('>>> coroutine started.')\n",
    "    i = yield\n",
    "    print('>>> coroutine received : {}'.format(i))"
   ]
  },
  {
   "cell_type": "code",
   "execution_count": 37,
   "metadata": {},
   "outputs": [
    {
     "name": "stdout",
     "output_type": "stream",
     "text": [
      "<generator object coroutine1 at 0x105995e00> <class 'generator'>\n"
     ]
    }
   ],
   "source": [
    "cr1 = coroutine1()\n",
    "print(cr1,type(cr1))"
   ]
  },
  {
   "cell_type": "code",
   "execution_count": 38,
   "metadata": {},
   "outputs": [
    {
     "name": "stdout",
     "output_type": "stream",
     "text": [
      ">>> coroutine started.\n"
     ]
    }
   ],
   "source": [
    "next(cr1) # yield 지점까지 서브루틴 수행"
   ]
  },
  {
   "cell_type": "code",
   "execution_count": 39,
   "metadata": {},
   "outputs": [
    {
     "name": "stdout",
     "output_type": "stream",
     "text": [
      ">>> coroutine received : None\n"
     ]
    },
    {
     "ename": "StopIteration",
     "evalue": "",
     "output_type": "error",
     "traceback": [
      "\u001b[0;31m---------------------------------------------------------------------------\u001b[0m",
      "\u001b[0;31mStopIteration\u001b[0m                             Traceback (most recent call last)",
      "Cell \u001b[0;32mIn[39], line 1\u001b[0m\n\u001b[0;32m----> 1\u001b[0m \u001b[39mnext\u001b[39;49m(cr1)\n",
      "\u001b[0;31mStopIteration\u001b[0m: "
     ]
    }
   ],
   "source": [
    "next(cr1)"
   ]
  },
  {
   "cell_type": "code",
   "execution_count": 40,
   "metadata": {},
   "outputs": [
    {
     "name": "stdout",
     "output_type": "stream",
     "text": [
      ">>> coroutine started.\n",
      ">>> coroutine received : 100\n"
     ]
    },
    {
     "ename": "StopIteration",
     "evalue": "",
     "output_type": "error",
     "traceback": [
      "\u001b[0;31m---------------------------------------------------------------------------\u001b[0m",
      "\u001b[0;31mStopIteration\u001b[0m                             Traceback (most recent call last)",
      "Cell \u001b[0;32mIn[40], line 3\u001b[0m\n\u001b[1;32m      1\u001b[0m cr1 \u001b[39m=\u001b[39m coroutine1()\n\u001b[1;32m      2\u001b[0m \u001b[39mnext\u001b[39m(cr1) \u001b[39m# yield 지점까지 서브루틴 수행\u001b[39;00m\n\u001b[0;32m----> 3\u001b[0m cr1\u001b[39m.\u001b[39;49msend(\u001b[39m100\u001b[39;49m) \u001b[39m# 메인 루틴과 서브 루틴이 상태값(데이터) 교환을 가능하게 하는 기능\u001b[39;00m\n",
      "\u001b[0;31mStopIteration\u001b[0m: "
     ]
    }
   ],
   "source": [
    "cr1 = coroutine1()\n",
    "next(cr1) # yield 지점까지 서브루틴 수행\n",
    "cr1.send(100) # 메인 루틴과 서브 루틴이 상태값(데이터) 교환을 가능하게 하는 기능"
   ]
  },
  {
   "cell_type": "code",
   "execution_count": 41,
   "metadata": {},
   "outputs": [],
   "source": [
    "# ex2\n",
    "# GEN_CREATED : 처음 대기 상태\n",
    "# GEN_RUNNING : 실행 상태\n",
    "# GEN_SUSPENED : Yield 대기 상태\n",
    "# GEN_CLOSED : 실행 완료 상태\n",
    "\n",
    "def coroutine2(x):\n",
    "    print('>>> coroutine started : {}'.format(x))\n",
    "    y = yield x\n",
    "    print('>>> coroutine received : {}'.format(x))\n",
    "    z = yield x + y\n",
    "    print('>>> coroutine received : {}'.format(z))"
   ]
  },
  {
   "cell_type": "code",
   "execution_count": 42,
   "metadata": {},
   "outputs": [],
   "source": [
    "# 상태값 출력\n",
    "from inspect import getgeneratorstate"
   ]
  },
  {
   "cell_type": "code",
   "execution_count": 43,
   "metadata": {},
   "outputs": [
    {
     "name": "stdout",
     "output_type": "stream",
     "text": [
      "GEN_CREATED\n",
      ">>> coroutine started : 10\n",
      "10\n"
     ]
    }
   ],
   "source": [
    "cr3 = coroutine2(10)\n",
    "print(getgeneratorstate(cr3))\n",
    "print(next(cr3))"
   ]
  },
  {
   "cell_type": "code",
   "execution_count": 44,
   "metadata": {},
   "outputs": [
    {
     "name": "stdout",
     "output_type": "stream",
     "text": [
      "GEN_SUSPENDED\n",
      ">>> coroutine received : 10\n"
     ]
    },
    {
     "data": {
      "text/plain": [
       "110"
      ]
     },
     "execution_count": 44,
     "metadata": {},
     "output_type": "execute_result"
    }
   ],
   "source": [
    "print(getgeneratorstate(cr3))\n",
    "cr3.send(100)"
   ]
  },
  {
   "cell_type": "code",
   "execution_count": 45,
   "metadata": {},
   "outputs": [
    {
     "name": "stdout",
     "output_type": "stream",
     "text": [
      "GEN_SUSPENDED\n",
      ">>> coroutine received : 100\n"
     ]
    },
    {
     "ename": "StopIteration",
     "evalue": "",
     "output_type": "error",
     "traceback": [
      "\u001b[0;31m---------------------------------------------------------------------------\u001b[0m",
      "\u001b[0;31mStopIteration\u001b[0m                             Traceback (most recent call last)",
      "Cell \u001b[0;32mIn[45], line 2\u001b[0m\n\u001b[1;32m      1\u001b[0m \u001b[39mprint\u001b[39m(getgeneratorstate(cr3))\n\u001b[0;32m----> 2\u001b[0m cr3\u001b[39m.\u001b[39;49msend(\u001b[39m100\u001b[39;49m)\n",
      "\u001b[0;31mStopIteration\u001b[0m: "
     ]
    }
   ],
   "source": [
    "print(getgeneratorstate(cr3))\n",
    "cr3.send(100)"
   ]
  },
  {
   "cell_type": "code",
   "execution_count": 46,
   "metadata": {},
   "outputs": [],
   "source": [
    "# Ex3\n",
    "# 중첩 coroutine 처리\n",
    "def generator1():\n",
    "    for x in 'AB':\n",
    "        yield x\n",
    "    for y in range(1,4):\n",
    "        yield y"
   ]
  },
  {
   "cell_type": "code",
   "execution_count": 47,
   "metadata": {},
   "outputs": [
    {
     "name": "stdout",
     "output_type": "stream",
     "text": [
      "A\n"
     ]
    }
   ],
   "source": [
    "t1 = generator1()\n",
    "print(next(t1))"
   ]
  },
  {
   "cell_type": "code",
   "execution_count": 48,
   "metadata": {},
   "outputs": [
    {
     "name": "stdout",
     "output_type": "stream",
     "text": [
      "B\n"
     ]
    }
   ],
   "source": [
    "print(next(t1))"
   ]
  },
  {
   "cell_type": "code",
   "execution_count": 49,
   "metadata": {},
   "outputs": [
    {
     "name": "stdout",
     "output_type": "stream",
     "text": [
      "1\n"
     ]
    }
   ],
   "source": [
    "print(next(t1))"
   ]
  },
  {
   "cell_type": "code",
   "execution_count": 50,
   "metadata": {},
   "outputs": [
    {
     "name": "stdout",
     "output_type": "stream",
     "text": [
      "2\n"
     ]
    }
   ],
   "source": [
    "print(next(t1))"
   ]
  },
  {
   "cell_type": "code",
   "execution_count": 51,
   "metadata": {},
   "outputs": [
    {
     "name": "stdout",
     "output_type": "stream",
     "text": [
      "3\n"
     ]
    }
   ],
   "source": [
    "print(next(t1))"
   ]
  },
  {
   "cell_type": "code",
   "execution_count": 52,
   "metadata": {},
   "outputs": [
    {
     "ename": "StopIteration",
     "evalue": "",
     "output_type": "error",
     "traceback": [
      "\u001b[0;31m---------------------------------------------------------------------------\u001b[0m",
      "\u001b[0;31mStopIteration\u001b[0m                             Traceback (most recent call last)",
      "Cell \u001b[0;32mIn[52], line 1\u001b[0m\n\u001b[0;32m----> 1\u001b[0m \u001b[39mprint\u001b[39m(\u001b[39mnext\u001b[39;49m(t1))\n",
      "\u001b[0;31mStopIteration\u001b[0m: "
     ]
    }
   ],
   "source": [
    "print(next(t1))"
   ]
  },
  {
   "cell_type": "code",
   "execution_count": 53,
   "metadata": {},
   "outputs": [
    {
     "name": "stdout",
     "output_type": "stream",
     "text": [
      "['A', 'B', 1, 2, 3]\n"
     ]
    }
   ],
   "source": [
    "t2 = generator1()\n",
    "print(list(t2))"
   ]
  },
  {
   "cell_type": "code",
   "execution_count": 54,
   "metadata": {},
   "outputs": [],
   "source": [
    "def generator2():\n",
    "    yield from 'AB'\n",
    "    yield from range(1,4)"
   ]
  },
  {
   "cell_type": "code",
   "execution_count": 55,
   "metadata": {},
   "outputs": [
    {
     "name": "stdout",
     "output_type": "stream",
     "text": [
      "A\n",
      "B\n",
      "1\n",
      "2\n",
      "3\n"
     ]
    }
   ],
   "source": [
    "t3 = generator2()\n",
    "print(next(t3))\n",
    "print(next(t3))\n",
    "print(next(t3))\n",
    "print(next(t3))\n",
    "print(next(t3))"
   ]
  },
  {
   "attachments": {},
   "cell_type": "markdown",
   "metadata": {},
   "source": [
    "### Python Futures (동시성)\n",
    "- 비동기 작업 처리\n",
    "    - 동기는 작업의 선후관계에 따라 실행되는 상태를 말함\n",
    "    - 지연 시간(Block) : CPU 및 리소스 낭비를 방지함 -> (File|Network) I/O 관련 작업은 동시성 활용을 권장함\n",
    "    - 비동기 작업과 적합한 프로그램일 경우 성능 향상을 많이 끌어올릴 수 있다.\n",
    "    - 관련 실습\n",
    "        - concurrent.futures 사용\n",
    "            - 비동기 실행을 위한 API 를 고수준으로 작성해 사용하기 쉽게 구성된 패키지\n",
    "            - 1. 멀티스레딩/멀티프로세싱 API 가 통일되어 사용하기 쉬워짐\n",
    "            - 2. 실행중인 작업 취소, 완료 여부 체크, 타임아웃 옵션, 콜백 추가, 동기화 코드 쉽게 작성 가능 (Promise 개념)\n",
    "- 파이썬 GIL 설명\n",
    "    - Global Interpreter Lock : 두 개 이상의 스레드가 동시에 실행 될 때, 하나의 자원을 액세스를 하는 경우, 문제를 방지하기 위해 GIL 이 실행. Resource 전체에 Lock 이 걸림\n",
    "    - GIL 우회? : 멀티프로세싱 사용, CPython \n",
    "- 동시성 처리 실습 예제\n",
    "    - futures 의 map"
   ]
  },
  {
   "cell_type": "code",
   "execution_count": 56,
   "metadata": {},
   "outputs": [],
   "source": [
    "from concurrent import futures\n",
    "from concurrent.futures import ThreadPoolExecutor, ProcessPoolExecutor, wait, as_completed\n",
    "import time"
   ]
  },
  {
   "cell_type": "code",
   "execution_count": 57,
   "metadata": {},
   "outputs": [],
   "source": [
    "# worklist 가 url 로 들어가고 같은 작업을 하는 crawling task 도 만들수 있음\n",
    "# 1 부터 다음 숫자까지의 합을 구하기\n",
    "worklist= [10000,100000, 10000000, 100000000]\n",
    "\n",
    "# 누적 합계 함수 (generator)\n",
    "def sum_generator(n):\n",
    "    return sum(n for n in range(1,n+1))"
   ]
  },
  {
   "cell_type": "code",
   "execution_count": 58,
   "metadata": {},
   "outputs": [],
   "source": [
    "def main():\n",
    "    worker = min(10,len(worklist))\n",
    "    start_tm = time.time()\n",
    "\n",
    "    with futures.ThreadPoolExecutor() as executor:\n",
    "        result = executor.map(sum_generator, worklist)\n",
    "        \n",
    "    end_tm = time.time() - start_tm\n",
    "    msg = '\\n Result -> {} Time : {:.2f}s'\n",
    "    print(msg.format(list(result), end_tm))"
   ]
  },
  {
   "cell_type": "code",
   "execution_count": 59,
   "metadata": {},
   "outputs": [
    {
     "name": "stdout",
     "output_type": "stream",
     "text": [
      "\n",
      " Result -> [50005000, 5000050000, 50000005000000, 5000000050000000] Time : 2.90s\n"
     ]
    }
   ],
   "source": [
    "if __name__ == '__main__':\n",
    "    main()"
   ]
  },
  {
   "attachments": {},
   "cell_type": "markdown",
   "metadata": {},
   "source": [
    "### Futures 를 활용한 동시성 실습\n",
    "- Futures wait 예제\n",
    "- Futures as_completed\n",
    "- 동시 실행 결과 출력\n",
    "- 동시성 처리 응용 예제 설명"
   ]
  },
  {
   "cell_type": "code",
   "execution_count": 60,
   "metadata": {},
   "outputs": [],
   "source": [
    "worklist= [100000,1000000, 100000000, 1000000000]"
   ]
  },
  {
   "cell_type": "code",
   "execution_count": 68,
   "metadata": {},
   "outputs": [],
   "source": [
    "def main():\n",
    "    worker = min(10,len(worklist))\n",
    "    start_tm = time.time()\n",
    "\n",
    "    future_list = []\n",
    "\n",
    "    with ThreadPoolExecutor() as executor:\n",
    "        for work in worklist:\n",
    "            # 실행되지는 않음 -> scheduling\n",
    "            future = executor.submit(sum_generator, work)\n",
    "            future_list.append(future)\n",
    "            # check schedule\n",
    "            print(\"Scheduled for {} : {}\".format(work, future))\n",
    "            print()\n",
    "\n",
    "        result = wait(future_list , timeout = 7)\n",
    "        \n",
    "    end_tm = time.time() - start_tm\n",
    "    msg = '\\n end Time : {:.2f}s'\n",
    "    print('completed ::: {}'.format(str(result.done)))\n",
    "    print('pending ones after waiting for 7secs ::: {}'.format(str(result.not_done)))\n",
    "    print([future.result() for future in result.done])\n",
    "    print(msg.format(end_tm))"
   ]
  },
  {
   "cell_type": "code",
   "execution_count": 69,
   "metadata": {},
   "outputs": [
    {
     "name": "stdout",
     "output_type": "stream",
     "text": [
      "Scheduled for 100000 : <Future at 0x1056face0 state=finished returned int>\n",
      "\n",
      "Scheduled for 1000000 : <Future at 0x105690760 state=pending>\n",
      "\n",
      "Scheduled for 100000000 : <Future at 0x1056ca9b0 state=running>\n",
      "\n",
      "Scheduled for 1000000000 : <Future at 0x1056bf940 state=running>\n",
      "\n",
      "completed ::: {<Future at 0x1056ca9b0 state=finished returned int>, <Future at 0x1056face0 state=finished returned int>, <Future at 0x105690760 state=finished returned int>}\n",
      "pending ones after waiting for 7secs ::: {<Future at 0x1056bf940 state=finished returned int>}\n",
      "[5000000050000000, 5000050000, 500000500000]\n",
      "\n",
      " end Time : 29.52s\n"
     ]
    }
   ],
   "source": [
    "main()"
   ]
  },
  {
   "cell_type": "code",
   "execution_count": 77,
   "metadata": {},
   "outputs": [],
   "source": [
    "def main():\n",
    "    worker = min(10,len(worklist))\n",
    "    start_tm = time.time()\n",
    "\n",
    "    future_list = []\n",
    "\n",
    "    with ThreadPoolExecutor() as executor:\n",
    "        for work in worklist:\n",
    "            # 실행되지는 않음 -> scheduling\n",
    "            future = executor.submit(sum_generator, work)\n",
    "            future_list.append(future)\n",
    "            # check schedule\n",
    "            print(\"Scheduled for {} : {}\".format(work, future))\n",
    "            print()\n",
    "\n",
    "        for future in as_completed(future_list):\n",
    "            result = future.result()\n",
    "            done = future.done()\n",
    "            cancelled = future.cancelled\n",
    "            \n",
    "            print('Future Result : {}, Done : {}'.format(result, done))\n",
    "            print('Future Cancelled : {}'.format(cancelled))\n",
    "\n",
    "    end_tm = time.time() - start_tm\n",
    "    msg = '\\n end Time : {:.2f}s'\n",
    "    # print('completed ::: {}'.format(str(result.done)))\n",
    "    # print('pending ones after waiting for 7secs ::: {}'.format(str(result.not_done)))\n",
    "    # print([future.result() for future in result.done])\n",
    "    print(msg.format(end_tm))"
   ]
  },
  {
   "cell_type": "code",
   "execution_count": 78,
   "metadata": {},
   "outputs": [
    {
     "name": "stdout",
     "output_type": "stream",
     "text": [
      "Scheduled for 100000 : <Future at 0x105c868c0 state=finished returned int>\n",
      "\n",
      "Scheduled for 1000000 : <Future at 0x105701cf0 state=pending>\n",
      "\n",
      "Scheduled for 100000000 : <Future at 0x105703550 state=running>\n",
      "\n",
      "Scheduled for 1000000000 : <Future at 0x10583cc10 state=running>\n",
      "\n",
      "Future Result : 5000050000, Done : True\n",
      "Future Cancelled : <bound method Future.cancelled of <Future at 0x105c868c0 state=finished returned int>>\n",
      "Future Result : 500000500000, Done : True\n",
      "Future Cancelled : <bound method Future.cancelled of <Future at 0x105701cf0 state=finished returned int>>\n",
      "Future Result : 5000000050000000, Done : True\n",
      "Future Cancelled : <bound method Future.cancelled of <Future at 0x105703550 state=finished returned int>>\n",
      "Future Result : 500000000500000000, Done : True\n",
      "Future Cancelled : <bound method Future.cancelled of <Future at 0x10583cc10 state=finished returned int>>\n",
      "\n",
      " end Time : 29.32s\n"
     ]
    }
   ],
   "source": [
    "main()"
   ]
  },
  {
   "cell_type": "code",
   "execution_count": 79,
   "metadata": {},
   "outputs": [
    {
     "data": {
      "text/plain": [
       "0.22490681706056284"
      ]
     },
     "execution_count": 79,
     "metadata": {},
     "output_type": "execute_result"
    }
   ],
   "source": [
    "749002 / 3330277 "
   ]
  },
  {
   "cell_type": "code",
   "execution_count": null,
   "metadata": {},
   "outputs": [],
   "source": []
  }
 ],
 "metadata": {
  "kernelspec": {
   "display_name": "python_adv",
   "language": "python",
   "name": "python3"
  },
  "language_info": {
   "codemirror_mode": {
    "name": "ipython",
    "version": 3
   },
   "file_extension": ".py",
   "mimetype": "text/x-python",
   "name": "python",
   "nbconvert_exporter": "python",
   "pygments_lexer": "ipython3",
   "version": "3.10.10"
  },
  "orig_nbformat": 4
 },
 "nbformat": 4,
 "nbformat_minor": 2
}
