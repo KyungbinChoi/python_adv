{
 "cells": [
  {
   "attachments": {},
   "cell_type": "markdown",
   "metadata": {},
   "source": [
    "# Class & Method 심화"
   ]
  },
  {
   "attachments": {},
   "cell_type": "markdown",
   "metadata": {},
   "source": [
    "## Backgroud\n",
    "* 객체 지향 프로그래밍의 필요성\n",
    "    - 코드의 재사용\n",
    "    - 코드의 중복 방지\n",
    "* As-is\n",
    "    - 규모가 큰 프로젝트 -> 함수 중심 -> 데이터 방대해짐 -> 복잡성 증가\n",
    "* To-be\n",
    "    - 클래스 중심 -> 데이터 중심 -> 객체로 관리"
   ]
  },
  {
   "cell_type": "code",
   "execution_count": 2,
   "metadata": {},
   "outputs": [],
   "source": [
    "# 차량을 관리하는 코드를 개발하는 상황\n",
    "# copy & paste 의 나열식\n",
    "# 차량 1\n",
    "car_company_1 = \"Ferrari\"\n",
    "car_deatil_1 = [\n",
    "    {'color':'white'},\n",
    "    {'horsepower':400},\n",
    "    {'price':8000}\n",
    "]\n",
    "\n",
    "car_company_2 = \"BMW\"\n",
    "car_deatil_2 = [\n",
    "    {'color':'black'},\n",
    "    {'horsepower':270},\n",
    "    {'price':5000}\n",
    "]\n",
    "\n",
    "car_company_3 = \"Audi\"\n",
    "car_deatil_3 = [\n",
    "    {'color':'silver'},\n",
    "    {'horsepower':300},\n",
    "    {'price':6000}\n",
    "]"
   ]
  },
  {
   "cell_type": "code",
   "execution_count": 3,
   "metadata": {},
   "outputs": [],
   "source": [
    "# 리스트 구조 방식\n",
    "# 관리하기가 불편하고, 인덱스 접근 시 실수 가능성, 삭제 불편\n",
    "car_company_list = [\"Ferrari\", \"BMW\", \"Audi\"]\n",
    "car_deatil_list = [\n",
    "    {'color':'white','horsepower':400, 'price':8000},\n",
    "    {'color':'black', 'horsepower':270,'price':5000},\n",
    "    {'color':'silver','horsepower':300,'price':6000}\n",
    "]"
   ]
  },
  {
   "cell_type": "code",
   "execution_count": 4,
   "metadata": {},
   "outputs": [],
   "source": [
    "del car_company_list[1]\n",
    "del car_deatil_list[1]"
   ]
  },
  {
   "cell_type": "code",
   "execution_count": 5,
   "metadata": {},
   "outputs": [
    {
     "data": {
      "text/plain": [
       "['Ferrari', 'Audi']"
      ]
     },
     "execution_count": 5,
     "metadata": {},
     "output_type": "execute_result"
    }
   ],
   "source": [
    "car_company_list"
   ]
  },
  {
   "cell_type": "code",
   "execution_count": 6,
   "metadata": {},
   "outputs": [
    {
     "data": {
      "text/plain": [
       "[{'color': 'white', 'horsepower': 400, 'price': 8000},\n",
       " {'color': 'silver', 'horsepower': 300, 'price': 6000}]"
      ]
     },
     "execution_count": 6,
     "metadata": {},
     "output_type": "execute_result"
    }
   ],
   "source": [
    "car_deatil_list"
   ]
  },
  {
   "cell_type": "code",
   "execution_count": 7,
   "metadata": {},
   "outputs": [],
   "source": [
    "# 딕셔너리 구조\n",
    "# 코드 반복, 중첩 문제 (key), key 조회 예외 처리 등\n",
    "car_dicts = [\n",
    "    {'car_company':'Ferrari', 'car_deatil1':{'color': 'white', 'horsepower': 400, 'price': 8000}},\n",
    "    {'car_company':'BMW', 'car_deatil2':{'color':'black', 'horsepower':270,'price':5000}},\n",
    "    {'car_company':'Audi', 'car_deatil2':{'color':'silver','horsepower':300,'price':6000}}\n",
    "]"
   ]
  },
  {
   "cell_type": "code",
   "execution_count": 8,
   "metadata": {},
   "outputs": [
    {
     "data": {
      "text/plain": [
       "[{'car_company': 'Ferrari',\n",
       "  'car_deatil1': {'color': 'white', 'horsepower': 400, 'price': 8000}},\n",
       " {'car_company': 'Audi',\n",
       "  'car_deatil2': {'color': 'silver', 'horsepower': 300, 'price': 6000}}]"
      ]
     },
     "execution_count": 8,
     "metadata": {},
     "output_type": "execute_result"
    }
   ],
   "source": [
    "# 삭제 시 pop, del \n",
    "del car_dicts[1]\n",
    "car_dicts"
   ]
  },
  {
   "cell_type": "code",
   "execution_count": 27,
   "metadata": {},
   "outputs": [],
   "source": [
    "# 클래스 구조\n",
    "# 구조 설계 후 재사용성 증가, 코드 반복 최소화, 매소드 활용\n",
    "class Car():\n",
    "    def __init__(self, company, details) -> None:\n",
    "        self._company = company\n",
    "        self._details = details\n",
    "    \n",
    "    def __str__(self) -> str:\n",
    "        # 개발자 level에서 출력 \n",
    "        return 'str : {} - {}'.format(self._company, self._details)\n",
    "    \n",
    "    def __repr__(self) -> str:\n",
    "        # 객체 관점으로 사용자 level 에서 출력할 때 사용\n",
    "        return 'repr : {} - {}'.format(self._company, self._details)"
   ]
  },
  {
   "cell_type": "code",
   "execution_count": 28,
   "metadata": {},
   "outputs": [],
   "source": [
    "car1 = Car('Ferrari', {'color': 'white', 'horsepower': 400, 'price': 8000})\n",
    "car2 = Car('BMW', {'color':'black', 'horsepower':270,'price':5000})\n",
    "car3 = Car('Audi', {'color':'silver','horsepower':300,'price':6000})"
   ]
  },
  {
   "cell_type": "code",
   "execution_count": 29,
   "metadata": {},
   "outputs": [
    {
     "data": {
      "text/plain": [
       "{'_company': 'Ferrari',\n",
       " '_details': {'color': 'white', 'horsepower': 400, 'price': 8000}}"
      ]
     },
     "execution_count": 29,
     "metadata": {},
     "output_type": "execute_result"
    }
   ],
   "source": [
    "# 딕셔너리로 속성 정보 확인\n",
    "car1.__dict__"
   ]
  },
  {
   "cell_type": "code",
   "execution_count": 30,
   "metadata": {},
   "outputs": [
    {
     "data": {
      "text/plain": [
       "['__class__',\n",
       " '__delattr__',\n",
       " '__dict__',\n",
       " '__dir__',\n",
       " '__doc__',\n",
       " '__eq__',\n",
       " '__format__',\n",
       " '__ge__',\n",
       " '__getattribute__',\n",
       " '__gt__',\n",
       " '__hash__',\n",
       " '__init__',\n",
       " '__init_subclass__',\n",
       " '__le__',\n",
       " '__lt__',\n",
       " '__module__',\n",
       " '__ne__',\n",
       " '__new__',\n",
       " '__reduce__',\n",
       " '__reduce_ex__',\n",
       " '__repr__',\n",
       " '__setattr__',\n",
       " '__sizeof__',\n",
       " '__str__',\n",
       " '__subclasshook__',\n",
       " '__weakref__',\n",
       " '_company',\n",
       " '_details']"
      ]
     },
     "execution_count": 30,
     "metadata": {},
     "output_type": "execute_result"
    }
   ],
   "source": [
    "# python에 내장된 magic method\n",
    "dir(car1)"
   ]
  },
  {
   "cell_type": "code",
   "execution_count": 31,
   "metadata": {},
   "outputs": [],
   "source": [
    "car_list = []\n",
    "car_list.append(car1)\n",
    "car_list.append(car2)\n",
    "car_list.append(car3)"
   ]
  },
  {
   "cell_type": "code",
   "execution_count": 32,
   "metadata": {},
   "outputs": [
    {
     "data": {
      "text/plain": [
       "[repr : Ferrari - {'color': 'white', 'horsepower': 400, 'price': 8000},\n",
       " repr : BMW - {'color': 'black', 'horsepower': 270, 'price': 5000},\n",
       " repr : Audi - {'color': 'silver', 'horsepower': 300, 'price': 6000}]"
      ]
     },
     "execution_count": 32,
     "metadata": {},
     "output_type": "execute_result"
    }
   ],
   "source": [
    "car_list # repr 로 출력"
   ]
  },
  {
   "cell_type": "code",
   "execution_count": 33,
   "metadata": {},
   "outputs": [
    {
     "name": "stdout",
     "output_type": "stream",
     "text": [
      "str : Ferrari - {'color': 'white', 'horsepower': 400, 'price': 8000}\n",
      "str : BMW - {'color': 'black', 'horsepower': 270, 'price': 5000}\n",
      "str : Audi - {'color': 'silver', 'horsepower': 300, 'price': 6000}\n"
     ]
    }
   ],
   "source": [
    "for x in car_list:\n",
    "    print(x)"
   ]
  },
  {
   "attachments": {},
   "cell_type": "markdown",
   "metadata": {},
   "source": [
    "## Class 상세 설명\n",
    "* 클래스 변수 vs 인스턴스 변수\n",
    "* 클래스 메소드\n",
    "* 네임스페이스의 이해"
   ]
  },
  {
   "attachments": {},
   "cell_type": "markdown",
   "metadata": {},
   "source": [
    "### 클래스 변수 vs 인스턴스 변수\n",
    "* Self 의 의미\n",
    "    * Instance 를 구분하기 위해 쓰는 frame의 역할을 한다.\n",
    "* 주석 foramt 을 잘 활용하자\n",
    "    * __doc__ 매서드로 확인할 수 있음\n",
    "* class 변수는 하나의 class 안에서 공통적으로 공유하는 변수를 활용하고자 할 때 쓴다.\n",
    "* class 변수는 공통적으로 공유하는 변수이기 때문에 변수 이름을 그대로 적어주지만, instance 변수는 변수명 앞에 _ 를 추가해 구분해준다.\n",
    "* 만약 class 변수와 instance 변수가 동일한 이름으로 지정되었다면 instance 변수 기준으로 먼저 검색 후 없다면 class 변수를 호출한다."
   ]
  },
  {
   "attachments": {},
   "cell_type": "markdown",
   "metadata": {},
   "source": [
    "### 클래스 기반 메소드 심화\n",
    "* Class Method\n",
    "    * class 의 state 에 접근하고 수정하는 매서드. 인스턴스 속성에 접근하거나 인스턴스 매서드를 호출하는 것은 불가능함\n",
    "    * 첫 번째 매개변수로 cls (class) 를 받음\n",
    "    * @classmehtod 데코레이터 사용\n",
    "* Instance Method\n",
    "    * self를 인자로 받아 객체의 고유한 속성 값을 사용하는 매서드\n",
    "* Static Method\n",
    "    * 유연한 mehtod, class 의 state 에 영향을 미치지 않음\n",
    "    * 고정된 매개변수를 받지 않음\n",
    "    * 인스턴스/클래스 속성에 접근하거나 인스턴스/클래스 매서드를 호출하는 것은 불가능함\n",
    "    * @staticmethod 데코레이터 사용"
   ]
  },
  {
   "cell_type": "code",
   "execution_count": 31,
   "metadata": {},
   "outputs": [],
   "source": [
    "# 클래스 구조\n",
    "# 구조 설계 후 재사용성 증가, 코드 반복 최소화, 매소드 활용\n",
    "class Car():\n",
    "    \"\"\"_summary_\n",
    "    Car class\n",
    "    Author : Choi\n",
    "    Date : 2023.05.05\n",
    "    \"\"\"\n",
    "\n",
    "    # class 변수\n",
    "    car_count = 0\n",
    "\n",
    "    def __init__(self, company, details) -> None:\n",
    "        self._company = company\n",
    "        self._details = details\n",
    "        Car.car_count += 1\n",
    "\n",
    "    def __str__(self) -> str:\n",
    "        # 개발자 level에서 출력 \n",
    "        return 'str : {} - {}'.format(self._company, self._details)\n",
    "    \n",
    "    def __repr__(self) -> str:\n",
    "        # 객체 관점으로 사용자 level 에서 출력할 때 사용\n",
    "        return 'repr : {} - {}'.format(self._company, self._details)\n",
    "    \n",
    "    def detail_info(self):\n",
    "        print('Current Id : {}'.format(id(self)))\n",
    "        print('Car Detail info {} {}'.format(self._company, self._details.get('price')))\n",
    "\n",
    "    def __del__(self):\n",
    "        Car.car_count -= 1\n",
    "\n",
    "car1 = Car('Ferrari', {'color': 'white', 'horsepower': 400, 'price': 8000})\n",
    "car2 = Car('BMW', {'color':'black', 'horsepower':270,'price':5000})\n",
    "car3 = Car('Audi', {'color':'silver','horsepower':300,'price':6000})"
   ]
  },
  {
   "cell_type": "code",
   "execution_count": 17,
   "metadata": {},
   "outputs": [
    {
     "name": "stdout",
     "output_type": "stream",
     "text": [
      "4907475648\n",
      "4907481744\n",
      "4906665152\n"
     ]
    }
   ],
   "source": [
    "print(id(car1))\n",
    "print(id(car2))\n",
    "print(id(car3))"
   ]
  },
  {
   "cell_type": "code",
   "execution_count": 10,
   "metadata": {},
   "outputs": [
    {
     "data": {
      "text/plain": [
       "False"
      ]
     },
     "execution_count": 10,
     "metadata": {},
     "output_type": "execute_result"
    }
   ],
   "source": [
    "car1._company == car2._company"
   ]
  },
  {
   "cell_type": "code",
   "execution_count": 11,
   "metadata": {},
   "outputs": [
    {
     "data": {
      "text/plain": [
       "False"
      ]
     },
     "execution_count": 11,
     "metadata": {},
     "output_type": "execute_result"
    }
   ],
   "source": [
    "car1 is car2"
   ]
  },
  {
   "cell_type": "code",
   "execution_count": 12,
   "metadata": {},
   "outputs": [
    {
     "name": "stdout",
     "output_type": "stream",
     "text": [
      "['__class__', '__delattr__', '__dict__', '__dir__', '__doc__', '__eq__', '__format__', '__ge__', '__getattribute__', '__gt__', '__hash__', '__init__', '__init_subclass__', '__le__', '__lt__', '__module__', '__ne__', '__new__', '__reduce__', '__reduce_ex__', '__repr__', '__setattr__', '__sizeof__', '__str__', '__subclasshook__', '__weakref__', '_company', '_details']\n",
      "['__class__', '__delattr__', '__dict__', '__dir__', '__doc__', '__eq__', '__format__', '__ge__', '__getattribute__', '__gt__', '__hash__', '__init__', '__init_subclass__', '__le__', '__lt__', '__module__', '__ne__', '__new__', '__reduce__', '__reduce_ex__', '__repr__', '__setattr__', '__sizeof__', '__str__', '__subclasshook__', '__weakref__', '_company', '_details']\n"
     ]
    }
   ],
   "source": [
    "print(dir(car1))\n",
    "print(dir(car2))"
   ]
  },
  {
   "cell_type": "code",
   "execution_count": 13,
   "metadata": {},
   "outputs": [
    {
     "name": "stdout",
     "output_type": "stream",
     "text": [
      "{'_company': 'Ferrari', '_details': {'color': 'white', 'horsepower': 400, 'price': 8000}}\n",
      "{'_company': 'BMW', '_details': {'color': 'black', 'horsepower': 270, 'price': 5000}}\n"
     ]
    }
   ],
   "source": [
    "print(car1.__dict__)\n",
    "print(car2.__dict__)"
   ]
  },
  {
   "cell_type": "code",
   "execution_count": 14,
   "metadata": {},
   "outputs": [
    {
     "name": "stdout",
     "output_type": "stream",
     "text": [
      "_summary_\n",
      "    Car class\n",
      "    Author : Choi\n",
      "    Date : 2023.05.05\n",
      "    \n"
     ]
    }
   ],
   "source": [
    "print(car1.__doc__)"
   ]
  },
  {
   "cell_type": "code",
   "execution_count": 16,
   "metadata": {},
   "outputs": [
    {
     "name": "stdout",
     "output_type": "stream",
     "text": [
      "Current Id : 4907475648\n",
      "Car Detail info Ferrari 8000\n"
     ]
    }
   ],
   "source": [
    "car1.detail_info()"
   ]
  },
  {
   "cell_type": "code",
   "execution_count": 18,
   "metadata": {},
   "outputs": [
    {
     "name": "stdout",
     "output_type": "stream",
     "text": [
      "<class '__main__.Car'> <class '__main__.Car'> <class '__main__.Car'>\n",
      "4381290384 4381290384 4381290384\n"
     ]
    }
   ],
   "source": [
    "print(car1.__class__, car2.__class__, car3.__class__)\n",
    "print(id(car1.__class__), id(car2.__class__), id(car3.__class__))"
   ]
  },
  {
   "cell_type": "code",
   "execution_count": 19,
   "metadata": {},
   "outputs": [
    {
     "ename": "TypeError",
     "evalue": "Car.detail_info() missing 1 required positional argument: 'self'",
     "output_type": "error",
     "traceback": [
      "\u001b[0;31m---------------------------------------------------------------------------\u001b[0m",
      "\u001b[0;31mTypeError\u001b[0m                                 Traceback (most recent call last)",
      "Cell \u001b[0;32mIn[19], line 2\u001b[0m\n\u001b[1;32m      1\u001b[0m \u001b[39m# Error\u001b[39;00m\n\u001b[0;32m----> 2\u001b[0m Car\u001b[39m.\u001b[39;49mdetail_info()\n",
      "\u001b[0;31mTypeError\u001b[0m: Car.detail_info() missing 1 required positional argument: 'self'"
     ]
    }
   ],
   "source": [
    "# Error\n",
    "Car.detail_info()"
   ]
  },
  {
   "cell_type": "code",
   "execution_count": 20,
   "metadata": {},
   "outputs": [
    {
     "name": "stdout",
     "output_type": "stream",
     "text": [
      "Current Id : 4907481744\n",
      "Car Detail info BMW 5000\n"
     ]
    }
   ],
   "source": [
    "# class 이름으로 접근하는 방식\n",
    "Car.detail_info(car2)"
   ]
  },
  {
   "cell_type": "code",
   "execution_count": 27,
   "metadata": {},
   "outputs": [
    {
     "data": {
      "text/plain": [
       "(3, 3, 3)"
      ]
     },
     "execution_count": 27,
     "metadata": {},
     "output_type": "execute_result"
    }
   ],
   "source": [
    "car1.car_count, car2.car_count, car3.car_count"
   ]
  },
  {
   "cell_type": "code",
   "execution_count": 23,
   "metadata": {},
   "outputs": [
    {
     "data": {
      "text/plain": [
       "{'_company': 'Ferrari',\n",
       " '_details': {'color': 'white', 'horsepower': 400, 'price': 8000}}"
      ]
     },
     "execution_count": 23,
     "metadata": {},
     "output_type": "execute_result"
    }
   ],
   "source": [
    "car1.__dict__"
   ]
  },
  {
   "cell_type": "code",
   "execution_count": 28,
   "metadata": {},
   "outputs": [
    {
     "name": "stdout",
     "output_type": "stream",
     "text": [
      "['__class__', '__delattr__', '__dict__', '__dir__', '__doc__', '__eq__', '__format__', '__ge__', '__getattribute__', '__gt__', '__hash__', '__init__', '__init_subclass__', '__le__', '__lt__', '__module__', '__ne__', '__new__', '__reduce__', '__reduce_ex__', '__repr__', '__setattr__', '__sizeof__', '__str__', '__subclasshook__', '__weakref__', '_company', '_details', 'car_count', 'detail_info']\n"
     ]
    }
   ],
   "source": [
    "print(dir(car1))"
   ]
  },
  {
   "cell_type": "code",
   "execution_count": 30,
   "metadata": {},
   "outputs": [
    {
     "data": {
      "text/plain": [
       "(3, 3)"
      ]
     },
     "execution_count": 30,
     "metadata": {},
     "output_type": "execute_result"
    }
   ],
   "source": [
    "car1.car_count, Car.car_count"
   ]
  },
  {
   "cell_type": "code",
   "execution_count": 32,
   "metadata": {},
   "outputs": [],
   "source": [
    "del car2"
   ]
  },
  {
   "cell_type": "code",
   "execution_count": 33,
   "metadata": {},
   "outputs": [
    {
     "data": {
      "text/plain": [
       "(2, 2)"
      ]
     },
     "execution_count": 33,
     "metadata": {},
     "output_type": "execute_result"
    }
   ],
   "source": [
    "car1.car_count, Car.car_count"
   ]
  },
  {
   "cell_type": "code",
   "execution_count": 43,
   "metadata": {},
   "outputs": [],
   "source": [
    "# 클래스 구조\n",
    "# 구조 설계 후 재사용성 증가, 코드 반복 최소화, 매소드 활용\n",
    "class Car():\n",
    "    \"\"\"_summary_\n",
    "    Car class\n",
    "    Author : Choi\n",
    "    Date : 2023.05.05\n",
    "    Contents : Class, Static, Instance\n",
    "    \"\"\"\n",
    "\n",
    "    # class 변수\n",
    "    price_per_raise = 1.0\n",
    "\n",
    "    def __init__(self, company, details) -> None:\n",
    "        self._company = company\n",
    "        self._details = details\n",
    "\n",
    "    def __str__(self) -> str:\n",
    "        # 개발자 level에서 출력 \n",
    "        return 'str : {} - {}'.format(self._company, self._details)\n",
    "    \n",
    "    def __repr__(self) -> str:\n",
    "        # 객체 관점으로 사용자 level 에서 출력할 때 사용\n",
    "        return 'repr : {} - {}'.format(self._company, self._details)\n",
    "    \n",
    "    def detail_info(self):\n",
    "        print('Current Id : {}'.format(id(self)))\n",
    "        print('Car Detail info {} {}'.format(self._company, self._details.get('price')))\n",
    "\n",
    "    def get_price(self):\n",
    "        return 'Before Car price >> company : {}, price : {}'.format(self._company, self._details.get('price'))\n",
    "\n",
    "    def get_price_culc(self):\n",
    "        return 'After Car price >> company : {}, price : {}'.format(self._company, self._details.get('price')*Car.price_per_raise)\n",
    "\n",
    "    # class method\n",
    "    @classmethod\n",
    "    def raise_price(cls, per):\n",
    "        if per <= 1:\n",
    "            print('Not allowed value for raise')\n",
    "            return\n",
    "        cls.price_per_raise = per\n",
    "        print('Adjusted price.')\n",
    "    \n",
    "    @staticmethod\n",
    "    def check_bmw_car(inst):\n",
    "        if inst._company == \"BMW\":\n",
    "            print('Confirm BMW car...')\n",
    "        else:\n",
    "            print('Other Company car >> {}'.format(inst._company))\n",
    "        return\n",
    "\n",
    "car1 = Car('Ferrari', {'color': 'white', 'horsepower': 400, 'price': 8000})\n",
    "car2 = Car('BMW', {'color':'black', 'horsepower':270,'price':5000})\n",
    "car3 = Car('Audi', {'color':'silver','horsepower':300,'price':6000})"
   ]
  },
  {
   "cell_type": "code",
   "execution_count": 36,
   "metadata": {},
   "outputs": [
    {
     "data": {
      "text/plain": [
       "'Before Car price >> company : Ferrari, price : 8000'"
      ]
     },
     "execution_count": 36,
     "metadata": {},
     "output_type": "execute_result"
    }
   ],
   "source": [
    "car1.get_price()"
   ]
  },
  {
   "cell_type": "code",
   "execution_count": 38,
   "metadata": {},
   "outputs": [],
   "source": [
    "Car.price_per_raise = 1.4 #클래스 매서드 미사용"
   ]
  },
  {
   "cell_type": "code",
   "execution_count": 39,
   "metadata": {},
   "outputs": [
    {
     "data": {
      "text/plain": [
       "'After Car price >> company : Ferrari, price : 11200.0'"
      ]
     },
     "execution_count": 39,
     "metadata": {},
     "output_type": "execute_result"
    }
   ],
   "source": [
    "car1.get_price_culc()"
   ]
  },
  {
   "cell_type": "code",
   "execution_count": 41,
   "metadata": {},
   "outputs": [
    {
     "name": "stdout",
     "output_type": "stream",
     "text": [
      "Adjusted price.\n"
     ]
    }
   ],
   "source": [
    "# class method 사용\n",
    "Car.raise_price(1.666)"
   ]
  },
  {
   "cell_type": "code",
   "execution_count": 42,
   "metadata": {},
   "outputs": [
    {
     "data": {
      "text/plain": [
       "'After Car price >> company : Ferrari, price : 13328.0'"
      ]
     },
     "execution_count": 42,
     "metadata": {},
     "output_type": "execute_result"
    }
   ],
   "source": [
    "car1.get_price_culc()"
   ]
  },
  {
   "cell_type": "code",
   "execution_count": 45,
   "metadata": {},
   "outputs": [
    {
     "name": "stdout",
     "output_type": "stream",
     "text": [
      "Other Company car >> Ferrari\n"
     ]
    }
   ],
   "source": [
    "car1.check_bmw_car(car1)"
   ]
  },
  {
   "cell_type": "code",
   "execution_count": 46,
   "metadata": {},
   "outputs": [
    {
     "name": "stdout",
     "output_type": "stream",
     "text": [
      "Confirm BMW car...\n"
     ]
    }
   ],
   "source": [
    "car1.check_bmw_car(car2)"
   ]
  },
  {
   "cell_type": "code",
   "execution_count": 47,
   "metadata": {},
   "outputs": [
    {
     "name": "stdout",
     "output_type": "stream",
     "text": [
      "Other Company car >> Ferrari\n"
     ]
    }
   ],
   "source": [
    "# staticmethod 는 Class 단위로 호출 가능\n",
    "Car.check_bmw_car(car1)"
   ]
  },
  {
   "cell_type": "code",
   "execution_count": null,
   "metadata": {},
   "outputs": [],
   "source": []
  }
 ],
 "metadata": {
  "kernelspec": {
   "display_name": "python_adv",
   "language": "python",
   "name": "python3"
  },
  "language_info": {
   "codemirror_mode": {
    "name": "ipython",
    "version": 3
   },
   "file_extension": ".py",
   "mimetype": "text/x-python",
   "name": "python",
   "nbconvert_exporter": "python",
   "pygments_lexer": "ipython3",
   "version": "3.10.10"
  },
  "orig_nbformat": 4
 },
 "nbformat": 4,
 "nbformat_minor": 2
}
