{
 "cells": [
  {
   "attachments": {},
   "cell_type": "markdown",
   "metadata": {},
   "source": [
    "## Special Method (Magic Method)\n",
    "* Core of Python -> Python Data Model\n",
    "    * Sequence, Iterator, Funtions, Class\n",
    "    * 모두 연계되어 있는 개념들\n",
    "* Special Method (Magic Method)\n",
    "    * 파이썬에 이미 내장되어 있는 수많은 클래스들에 포함된 매서드들\n",
    "    * 단순 연산도 일종의 special method 가 내부적으로 동작해 결과를 산출함\n",
    "    * 즉, 매서드이기 때문에 이를 custom 해 원하는 연산 과정으로 바꾸는 것도 가능하다."
   ]
  },
  {
   "cell_type": "code",
   "execution_count": 2,
   "metadata": {},
   "outputs": [
    {
     "name": "stdout",
     "output_type": "stream",
     "text": [
      "<class 'int'>\n",
      "<class 'float'>\n"
     ]
    }
   ],
   "source": [
    "# 기본형\n",
    "print(int)\n",
    "print(float)"
   ]
  },
  {
   "cell_type": "code",
   "execution_count": 3,
   "metadata": {},
   "outputs": [
    {
     "name": "stdout",
     "output_type": "stream",
     "text": [
      "['__abs__', '__add__', '__bool__', '__ceil__', '__class__', '__delattr__', '__dir__', '__divmod__', '__doc__', '__eq__', '__float__', '__floor__', '__floordiv__', '__format__', '__ge__', '__getattribute__', '__getformat__', '__getnewargs__', '__gt__', '__hash__', '__init__', '__init_subclass__', '__int__', '__le__', '__lt__', '__mod__', '__mul__', '__ne__', '__neg__', '__new__', '__pos__', '__pow__', '__radd__', '__rdivmod__', '__reduce__', '__reduce_ex__', '__repr__', '__rfloordiv__', '__rmod__', '__rmul__', '__round__', '__rpow__', '__rsub__', '__rtruediv__', '__setattr__', '__setformat__', '__sizeof__', '__str__', '__sub__', '__subclasshook__', '__truediv__', '__trunc__', 'as_integer_ratio', 'conjugate', 'fromhex', 'hex', 'imag', 'is_integer', 'real']\n"
     ]
    }
   ],
   "source": [
    "# 모든 속성 및 메소드 출력\n",
    "print(dir(float))"
   ]
  },
  {
   "cell_type": "code",
   "execution_count": 4,
   "metadata": {},
   "outputs": [
    {
     "name": "stdout",
     "output_type": "stream",
     "text": [
      "<class 'int'>\n"
     ]
    }
   ],
   "source": [
    "n =10\n",
    "print(type(n))"
   ]
  },
  {
   "cell_type": "code",
   "execution_count": 5,
   "metadata": {},
   "outputs": [
    {
     "name": "stdout",
     "output_type": "stream",
     "text": [
      "110\n",
      "110\n"
     ]
    }
   ],
   "source": [
    "print(n+100)\n",
    "print(n.__add__(100))"
   ]
  },
  {
   "cell_type": "code",
   "execution_count": 6,
   "metadata": {},
   "outputs": [
    {
     "name": "stdout",
     "output_type": "stream",
     "text": [
      "True True\n"
     ]
    }
   ],
   "source": [
    "print(n.__bool__(), bool(n))"
   ]
  },
  {
   "cell_type": "code",
   "execution_count": 32,
   "metadata": {},
   "outputs": [],
   "source": [
    "# class example\n",
    "class Fruit:\n",
    "    def __init__(self, name, price) -> None:\n",
    "        self._name = name\n",
    "        self._price = price\n",
    "    \n",
    "    def __str__(self):\n",
    "        return \"Fruit Class info {}, {}\".format(self._name, self._price)\n",
    "    \n",
    "    def __add__(self, x):\n",
    "        return self._price + x._price\n",
    "    \n",
    "    def __sub__(self, x):\n",
    "        return self._price - x._price\n",
    "    \n",
    "    def __le__(self,x):\n",
    "        if self._price <= x._price:\n",
    "            return True\n",
    "        else:\n",
    "            return False\n",
    "    \n",
    "    def __ge__(self,x):\n",
    "        if self._price >= x._price:\n",
    "            return True\n",
    "        else:\n",
    "            return False"
   ]
  },
  {
   "cell_type": "code",
   "execution_count": 33,
   "metadata": {},
   "outputs": [],
   "source": [
    "# make instance\n",
    "s1 = Fruit(\"Orange\", 7500)\n",
    "s2 = Fruit(\"Banana\", 3000)"
   ]
  },
  {
   "cell_type": "code",
   "execution_count": 34,
   "metadata": {},
   "outputs": [
    {
     "name": "stdout",
     "output_type": "stream",
     "text": [
      "10500\n"
     ]
    }
   ],
   "source": [
    "print(s1._price + s2._price) "
   ]
  },
  {
   "cell_type": "code",
   "execution_count": 35,
   "metadata": {},
   "outputs": [
    {
     "data": {
      "text/plain": [
       "10500"
      ]
     },
     "execution_count": 35,
     "metadata": {},
     "output_type": "execute_result"
    }
   ],
   "source": [
    "s1+s2"
   ]
  },
  {
   "cell_type": "code",
   "execution_count": 36,
   "metadata": {},
   "outputs": [
    {
     "data": {
      "text/plain": [
       "4500"
      ]
     },
     "execution_count": 36,
     "metadata": {},
     "output_type": "execute_result"
    }
   ],
   "source": [
    "s1-s2"
   ]
  },
  {
   "cell_type": "code",
   "execution_count": 37,
   "metadata": {},
   "outputs": [
    {
     "data": {
      "text/plain": [
       "False"
      ]
     },
     "execution_count": 37,
     "metadata": {},
     "output_type": "execute_result"
    }
   ],
   "source": [
    "s1 <= s2"
   ]
  },
  {
   "cell_type": "code",
   "execution_count": 38,
   "metadata": {},
   "outputs": [
    {
     "data": {
      "text/plain": [
       "True"
      ]
     },
     "execution_count": 38,
     "metadata": {},
     "output_type": "execute_result"
    }
   ],
   "source": [
    "s1 >= s2"
   ]
  },
  {
   "cell_type": "code",
   "execution_count": 40,
   "metadata": {},
   "outputs": [
    {
     "name": "stdout",
     "output_type": "stream",
     "text": [
      "Fruit Class info Orange, 7500\n",
      "Fruit Class info Banana, 3000\n"
     ]
    }
   ],
   "source": [
    "print(s1)\n",
    "print(s2)"
   ]
  },
  {
   "cell_type": "code",
   "execution_count": 14,
   "metadata": {},
   "outputs": [],
   "source": [
    "# class for vector manipulation\n",
    "# (5,2) + (4,3) = (9,5)\n",
    "# (10,3) * 5 = (50,15)\n",
    "# Max((5,10)) = 10\n",
    "\n",
    "class Vector(object):\n",
    "    def __init__(self, *arg):\n",
    "        \"\"\"\n",
    "        Create a vector, example : v = Vector(5,10)\n",
    "        \"\"\"\n",
    "        if len(arg) == 0:\n",
    "            self._x, self._y = 0, 0\n",
    "        else:\n",
    "            self._x, self._y = arg\n",
    "    \n",
    "    def __repr__(self) -> str:\n",
    "        \"\"\"Return the vector infomations\n",
    "\n",
    "        Returns:\n",
    "            str: _description_\n",
    "        \"\"\"\n",
    "        return 'Vector (%r, %r)' % (self._x, self._y)\n",
    "\n",
    "    def __add__(self, other):\n",
    "        \"\"\"Return vector addiation\n",
    "\n",
    "        Args:\n",
    "            other (class): Vector class\n",
    "\n",
    "        Returns:\n",
    "            class: Vector\n",
    "        \"\"\"\n",
    "        return Vector(self._x + other._x, self._y + other._y)\n",
    "\n",
    "    def __mul__(self, s):\n",
    "        \"\"\"Return vector * scalar\n",
    "\n",
    "        Args:\n",
    "            s (float): scalar\n",
    "\n",
    "        Returns:\n",
    "            class: Vector\n",
    "        \"\"\"\n",
    "        return Vector(self._x * s, self._y * s)\n",
    "\n",
    "    def __bool__(self):\n",
    "        \"\"\"Check 0,0 vector\n",
    "\n",
    "        Returns:\n",
    "            bool: if zero vector, returned False \n",
    "        \"\"\"\n",
    "        # print('If returned False, the vector is a zero vector')\n",
    "        return bool(max(self._x, self._y))\n",
    "\n",
    "# print(Vector.__init__.__doc__)"
   ]
  },
  {
   "cell_type": "code",
   "execution_count": 15,
   "metadata": {},
   "outputs": [],
   "source": [
    "# Vector Instacne\n",
    "v1 = Vector(5,7)\n",
    "v2 = Vector(23,53)\n",
    "v3 = Vector()\n",
    "s1 = 17"
   ]
  },
  {
   "cell_type": "code",
   "execution_count": 16,
   "metadata": {},
   "outputs": [
    {
     "name": "stdout",
     "output_type": "stream",
     "text": [
      "\n",
      "        Create a vector, example : v = Vector(5,10)\n",
      "        \n"
     ]
    }
   ],
   "source": [
    "# Usage magic method\n",
    "print(Vector.__init__.__doc__)"
   ]
  },
  {
   "cell_type": "code",
   "execution_count": 17,
   "metadata": {},
   "outputs": [
    {
     "name": "stdout",
     "output_type": "stream",
     "text": [
      "Vector (5, 7)\n",
      "Vector (23, 53)\n",
      "Vector (0, 0)\n"
     ]
    }
   ],
   "source": [
    "print(v1)\n",
    "print(v2)\n",
    "print(v3)"
   ]
  },
  {
   "cell_type": "code",
   "execution_count": 18,
   "metadata": {},
   "outputs": [
    {
     "name": "stdout",
     "output_type": "stream",
     "text": [
      "Vector (28, 60)\n"
     ]
    }
   ],
   "source": [
    "print(v1+v2)"
   ]
  },
  {
   "cell_type": "code",
   "execution_count": 19,
   "metadata": {},
   "outputs": [
    {
     "name": "stdout",
     "output_type": "stream",
     "text": [
      "Vector (85, 119)\n"
     ]
    }
   ],
   "source": [
    "print(v1*s1)"
   ]
  },
  {
   "cell_type": "code",
   "execution_count": 20,
   "metadata": {},
   "outputs": [
    {
     "name": "stdout",
     "output_type": "stream",
     "text": [
      "If returned False, the vector is a zero vector\n",
      "True\n",
      "If returned False, the vector is a zero vector\n",
      "False\n"
     ]
    }
   ],
   "source": [
    "print(bool(v1))\n",
    "print(bool(v3))"
   ]
  },
  {
   "attachments": {},
   "cell_type": "markdown",
   "metadata": {},
   "source": [
    "### Data Model 추상화\n",
    "* 데이터 모델 설계\n",
    "    * 객체(Obejct) : Python 에서 데이터를 추상화\n",
    "    * 모든 객체는 고유한 id 값과 type 을 가진다\n",
    "* NamedTuple\n",
    "    * Tuple 의 성질을 가지면서 유지, 관리 측면의 효용이 더 좋은 객체\n",
    "    * collection 모듈에 포함되어 있음\n",
    "* Unpacking\n",
    "    * Dictionary, list 등의 자료 구조를 그대로 인자로 넣어 활용 가능"
   ]
  },
  {
   "cell_type": "code",
   "execution_count": 21,
   "metadata": {},
   "outputs": [],
   "source": [
    "# 일반적인 튜플\n",
    "pt1 = (1.0, 5.0)\n",
    "pt2 = (2.5, 1.5)"
   ]
  },
  {
   "cell_type": "code",
   "execution_count": 22,
   "metadata": {},
   "outputs": [],
   "source": [
    "from math import sqrt"
   ]
  },
  {
   "cell_type": "code",
   "execution_count": 23,
   "metadata": {},
   "outputs": [
    {
     "name": "stdout",
     "output_type": "stream",
     "text": [
      "3.8078865529319543\n"
     ]
    }
   ],
   "source": [
    "# 두 점 사이의 거리\n",
    "l_leng1 = sqrt(((pt1[0] - pt2[0])**2) + ((pt1[1] - pt2[1])**2))\n",
    "print(l_leng1)"
   ]
  },
  {
   "cell_type": "code",
   "execution_count": 24,
   "metadata": {},
   "outputs": [],
   "source": [
    "# Named Tuple\n",
    "from collections import namedtuple\n",
    "\n",
    "# Assign\n",
    "Point = namedtuple('Point', 'x y')"
   ]
  },
  {
   "cell_type": "code",
   "execution_count": 25,
   "metadata": {},
   "outputs": [
    {
     "data": {
      "text/plain": [
       "Point(x=3, y=4)"
      ]
     },
     "execution_count": 25,
     "metadata": {},
     "output_type": "execute_result"
    }
   ],
   "source": [
    "pt3 = Point(3,4)\n",
    "pt3"
   ]
  },
  {
   "cell_type": "code",
   "execution_count": 26,
   "metadata": {},
   "outputs": [],
   "source": [
    "Point2 = namedtuple('Point', 'x y z')"
   ]
  },
  {
   "cell_type": "code",
   "execution_count": 27,
   "metadata": {},
   "outputs": [
    {
     "data": {
      "text/plain": [
       "Point(x=3, y=4, z=5)"
      ]
     },
     "execution_count": 27,
     "metadata": {},
     "output_type": "execute_result"
    }
   ],
   "source": [
    "pt4 = Point2(3,4,5)\n",
    "pt4"
   ]
  },
  {
   "cell_type": "code",
   "execution_count": 28,
   "metadata": {},
   "outputs": [
    {
     "name": "stdout",
     "output_type": "stream",
     "text": [
      "Point(x=1.0, y=5.0) Point(x=2.5, y=1.5)\n"
     ]
    }
   ],
   "source": [
    "pt3 = Point(1.0, 5.0)\n",
    "pt4 = Point(2.5,1.5)\n",
    "print(pt3, pt4)"
   ]
  },
  {
   "cell_type": "code",
   "execution_count": 29,
   "metadata": {},
   "outputs": [
    {
     "data": {
      "text/plain": [
       "(1.0, 2.5)"
      ]
     },
     "execution_count": 29,
     "metadata": {},
     "output_type": "execute_result"
    }
   ],
   "source": [
    "pt3.x, pt4.x"
   ]
  },
  {
   "cell_type": "code",
   "execution_count": 30,
   "metadata": {},
   "outputs": [
    {
     "data": {
      "text/plain": [
       "3.8078865529319543"
      ]
     },
     "execution_count": 30,
     "metadata": {},
     "output_type": "execute_result"
    }
   ],
   "source": [
    "l_leng2 = sqrt(((pt3.x - pt4.x)**2) + ((pt3.y - pt4.y)**2))\n",
    "l_leng2"
   ]
  },
  {
   "cell_type": "code",
   "execution_count": 31,
   "metadata": {},
   "outputs": [],
   "source": [
    "# Assign\n",
    "Point1 = namedtuple('Point', ['x', 'y'])\n",
    "Point2 = namedtuple('Point', 'x, y')\n",
    "Point3 = namedtuple('Point', 'x y')"
   ]
  },
  {
   "cell_type": "code",
   "execution_count": 32,
   "metadata": {},
   "outputs": [],
   "source": [
    "Point4 = namedtuple('Point', 'x y x class', rename= True) "
   ]
  },
  {
   "cell_type": "code",
   "execution_count": 35,
   "metadata": {},
   "outputs": [
    {
     "name": "stdout",
     "output_type": "stream",
     "text": [
      "<class '__main__.Point'>\n",
      "<class '__main__.Point'>\n",
      "<class '__main__.Point'>\n",
      "<class '__main__.Point'>\n"
     ]
    }
   ],
   "source": [
    "print(Point1)\n",
    "print(Point2)\n",
    "print(Point3)\n",
    "print(Point4)"
   ]
  },
  {
   "cell_type": "code",
   "execution_count": 36,
   "metadata": {},
   "outputs": [],
   "source": [
    "p1 = Point1(x=10, y= 35)\n",
    "p2 = Point2(20,40)\n",
    "p3 = Point3(45, y= 20)\n",
    "p4 = Point4(10, 20, 30, 40)"
   ]
  },
  {
   "cell_type": "code",
   "execution_count": 38,
   "metadata": {},
   "outputs": [
    {
     "name": "stdout",
     "output_type": "stream",
     "text": [
      "Point(x=10, y=35)\n",
      "Point(x=20, y=40)\n",
      "Point(x=45, y=20)\n",
      "Point(x=10, y=20, _2=30, _3=40)\n"
     ]
    }
   ],
   "source": [
    "print(p1)\n",
    "print(p2)\n",
    "print(p3)\n",
    "print(p4)"
   ]
  },
  {
   "cell_type": "code",
   "execution_count": 39,
   "metadata": {},
   "outputs": [],
   "source": [
    "# Dict to Unpacking\n",
    "temp_dict = {'x' : 75, 'y' : 55}\n",
    "p5 = Point3(**temp_dict)"
   ]
  },
  {
   "cell_type": "code",
   "execution_count": 40,
   "metadata": {},
   "outputs": [
    {
     "name": "stdout",
     "output_type": "stream",
     "text": [
      "Point(x=75, y=55)\n"
     ]
    }
   ],
   "source": [
    "print(p5)"
   ]
  },
  {
   "cell_type": "code",
   "execution_count": 41,
   "metadata": {},
   "outputs": [
    {
     "name": "stdout",
     "output_type": "stream",
     "text": [
      "50\n"
     ]
    }
   ],
   "source": [
    "print(p1.x + p2.y)"
   ]
  },
  {
   "cell_type": "code",
   "execution_count": 42,
   "metadata": {},
   "outputs": [
    {
     "name": "stdout",
     "output_type": "stream",
     "text": [
      "45\n",
      "20\n"
     ]
    }
   ],
   "source": [
    "# Unpacking\n",
    "x,y = p3\n",
    "print(x)\n",
    "print(y)"
   ]
  },
  {
   "cell_type": "code",
   "execution_count": 43,
   "metadata": {},
   "outputs": [
    {
     "name": "stdout",
     "output_type": "stream",
     "text": [
      "Point(x=52, y=38)\n"
     ]
    }
   ],
   "source": [
    "# Nametuple method\n",
    "temp = [52, 38]\n",
    "p4 = Point1._make(temp)\n",
    "print(p4)"
   ]
  },
  {
   "cell_type": "code",
   "execution_count": 44,
   "metadata": {},
   "outputs": [
    {
     "name": "stdout",
     "output_type": "stream",
     "text": [
      "('x', 'y') ('x', 'y') ('x', 'y')\n"
     ]
    }
   ],
   "source": [
    "# check key value \n",
    "print(p1._fields, p2._fields, p3._fields)"
   ]
  },
  {
   "cell_type": "code",
   "execution_count": 45,
   "metadata": {},
   "outputs": [
    {
     "name": "stdout",
     "output_type": "stream",
     "text": [
      "{'x': 10, 'y': 35}\n"
     ]
    }
   ],
   "source": [
    "# _asdict() -> OrderedDict\n",
    "print(p1._asdict())"
   ]
  },
  {
   "cell_type": "code",
   "execution_count": 47,
   "metadata": {},
   "outputs": [],
   "source": [
    "# practical case\n",
    "# 20 students , 4 classes (A, B, C, D)\n",
    "Classes = namedtuple('Classes', ['rank', 'number'])"
   ]
  },
  {
   "cell_type": "code",
   "execution_count": 48,
   "metadata": {},
   "outputs": [],
   "source": [
    "number = [str(n) for n in range(1,21)]\n",
    "ranks = 'A B C D'.split()"
   ]
  },
  {
   "cell_type": "code",
   "execution_count": 49,
   "metadata": {},
   "outputs": [],
   "source": [
    "students = [Classes(rank, num) for rank in ranks for num in number]"
   ]
  },
  {
   "cell_type": "code",
   "execution_count": 50,
   "metadata": {},
   "outputs": [
    {
     "data": {
      "text/plain": [
       "[Classes(rank='A', number='1'),\n",
       " Classes(rank='A', number='2'),\n",
       " Classes(rank='A', number='3'),\n",
       " Classes(rank='A', number='4'),\n",
       " Classes(rank='A', number='5'),\n",
       " Classes(rank='A', number='6'),\n",
       " Classes(rank='A', number='7'),\n",
       " Classes(rank='A', number='8'),\n",
       " Classes(rank='A', number='9'),\n",
       " Classes(rank='A', number='10'),\n",
       " Classes(rank='A', number='11'),\n",
       " Classes(rank='A', number='12'),\n",
       " Classes(rank='A', number='13'),\n",
       " Classes(rank='A', number='14'),\n",
       " Classes(rank='A', number='15'),\n",
       " Classes(rank='A', number='16'),\n",
       " Classes(rank='A', number='17'),\n",
       " Classes(rank='A', number='18'),\n",
       " Classes(rank='A', number='19'),\n",
       " Classes(rank='A', number='20'),\n",
       " Classes(rank='B', number='1'),\n",
       " Classes(rank='B', number='2'),\n",
       " Classes(rank='B', number='3'),\n",
       " Classes(rank='B', number='4'),\n",
       " Classes(rank='B', number='5'),\n",
       " Classes(rank='B', number='6'),\n",
       " Classes(rank='B', number='7'),\n",
       " Classes(rank='B', number='8'),\n",
       " Classes(rank='B', number='9'),\n",
       " Classes(rank='B', number='10'),\n",
       " Classes(rank='B', number='11'),\n",
       " Classes(rank='B', number='12'),\n",
       " Classes(rank='B', number='13'),\n",
       " Classes(rank='B', number='14'),\n",
       " Classes(rank='B', number='15'),\n",
       " Classes(rank='B', number='16'),\n",
       " Classes(rank='B', number='17'),\n",
       " Classes(rank='B', number='18'),\n",
       " Classes(rank='B', number='19'),\n",
       " Classes(rank='B', number='20'),\n",
       " Classes(rank='C', number='1'),\n",
       " Classes(rank='C', number='2'),\n",
       " Classes(rank='C', number='3'),\n",
       " Classes(rank='C', number='4'),\n",
       " Classes(rank='C', number='5'),\n",
       " Classes(rank='C', number='6'),\n",
       " Classes(rank='C', number='7'),\n",
       " Classes(rank='C', number='8'),\n",
       " Classes(rank='C', number='9'),\n",
       " Classes(rank='C', number='10'),\n",
       " Classes(rank='C', number='11'),\n",
       " Classes(rank='C', number='12'),\n",
       " Classes(rank='C', number='13'),\n",
       " Classes(rank='C', number='14'),\n",
       " Classes(rank='C', number='15'),\n",
       " Classes(rank='C', number='16'),\n",
       " Classes(rank='C', number='17'),\n",
       " Classes(rank='C', number='18'),\n",
       " Classes(rank='C', number='19'),\n",
       " Classes(rank='C', number='20'),\n",
       " Classes(rank='D', number='1'),\n",
       " Classes(rank='D', number='2'),\n",
       " Classes(rank='D', number='3'),\n",
       " Classes(rank='D', number='4'),\n",
       " Classes(rank='D', number='5'),\n",
       " Classes(rank='D', number='6'),\n",
       " Classes(rank='D', number='7'),\n",
       " Classes(rank='D', number='8'),\n",
       " Classes(rank='D', number='9'),\n",
       " Classes(rank='D', number='10'),\n",
       " Classes(rank='D', number='11'),\n",
       " Classes(rank='D', number='12'),\n",
       " Classes(rank='D', number='13'),\n",
       " Classes(rank='D', number='14'),\n",
       " Classes(rank='D', number='15'),\n",
       " Classes(rank='D', number='16'),\n",
       " Classes(rank='D', number='17'),\n",
       " Classes(rank='D', number='18'),\n",
       " Classes(rank='D', number='19'),\n",
       " Classes(rank='D', number='20')]"
      ]
     },
     "execution_count": 50,
     "metadata": {},
     "output_type": "execute_result"
    }
   ],
   "source": [
    "students"
   ]
  },
  {
   "cell_type": "code",
   "execution_count": 51,
   "metadata": {},
   "outputs": [
    {
     "data": {
      "text/plain": [
       "[Classes(rank='A', number='1'),\n",
       " Classes(rank='A', number='2'),\n",
       " Classes(rank='A', number='3'),\n",
       " Classes(rank='A', number='4'),\n",
       " Classes(rank='A', number='5'),\n",
       " Classes(rank='A', number='6'),\n",
       " Classes(rank='A', number='7'),\n",
       " Classes(rank='A', number='8'),\n",
       " Classes(rank='A', number='9'),\n",
       " Classes(rank='A', number='10'),\n",
       " Classes(rank='A', number='11'),\n",
       " Classes(rank='A', number='12'),\n",
       " Classes(rank='A', number='13'),\n",
       " Classes(rank='A', number='14'),\n",
       " Classes(rank='A', number='15'),\n",
       " Classes(rank='A', number='16'),\n",
       " Classes(rank='A', number='17'),\n",
       " Classes(rank='A', number='18'),\n",
       " Classes(rank='A', number='19'),\n",
       " Classes(rank='A', number='20'),\n",
       " Classes(rank='B', number='1'),\n",
       " Classes(rank='B', number='2'),\n",
       " Classes(rank='B', number='3'),\n",
       " Classes(rank='B', number='4'),\n",
       " Classes(rank='B', number='5'),\n",
       " Classes(rank='B', number='6'),\n",
       " Classes(rank='B', number='7'),\n",
       " Classes(rank='B', number='8'),\n",
       " Classes(rank='B', number='9'),\n",
       " Classes(rank='B', number='10'),\n",
       " Classes(rank='B', number='11'),\n",
       " Classes(rank='B', number='12'),\n",
       " Classes(rank='B', number='13'),\n",
       " Classes(rank='B', number='14'),\n",
       " Classes(rank='B', number='15'),\n",
       " Classes(rank='B', number='16'),\n",
       " Classes(rank='B', number='17'),\n",
       " Classes(rank='B', number='18'),\n",
       " Classes(rank='B', number='19'),\n",
       " Classes(rank='B', number='20'),\n",
       " Classes(rank='C', number='1'),\n",
       " Classes(rank='C', number='2'),\n",
       " Classes(rank='C', number='3'),\n",
       " Classes(rank='C', number='4'),\n",
       " Classes(rank='C', number='5'),\n",
       " Classes(rank='C', number='6'),\n",
       " Classes(rank='C', number='7'),\n",
       " Classes(rank='C', number='8'),\n",
       " Classes(rank='C', number='9'),\n",
       " Classes(rank='C', number='10'),\n",
       " Classes(rank='C', number='11'),\n",
       " Classes(rank='C', number='12'),\n",
       " Classes(rank='C', number='13'),\n",
       " Classes(rank='C', number='14'),\n",
       " Classes(rank='C', number='15'),\n",
       " Classes(rank='C', number='16'),\n",
       " Classes(rank='C', number='17'),\n",
       " Classes(rank='C', number='18'),\n",
       " Classes(rank='C', number='19'),\n",
       " Classes(rank='C', number='20'),\n",
       " Classes(rank='D', number='1'),\n",
       " Classes(rank='D', number='2'),\n",
       " Classes(rank='D', number='3'),\n",
       " Classes(rank='D', number='4'),\n",
       " Classes(rank='D', number='5'),\n",
       " Classes(rank='D', number='6'),\n",
       " Classes(rank='D', number='7'),\n",
       " Classes(rank='D', number='8'),\n",
       " Classes(rank='D', number='9'),\n",
       " Classes(rank='D', number='10'),\n",
       " Classes(rank='D', number='11'),\n",
       " Classes(rank='D', number='12'),\n",
       " Classes(rank='D', number='13'),\n",
       " Classes(rank='D', number='14'),\n",
       " Classes(rank='D', number='15'),\n",
       " Classes(rank='D', number='16'),\n",
       " Classes(rank='D', number='17'),\n",
       " Classes(rank='D', number='18'),\n",
       " Classes(rank='D', number='19'),\n",
       " Classes(rank='D', number='20')]"
      ]
     },
     "execution_count": 51,
     "metadata": {},
     "output_type": "execute_result"
    }
   ],
   "source": [
    "students2 = [Classes(rank, num) \n",
    "             for rank in 'A B C D'.split()\n",
    "                for num in [str(n) for n in range(1,21)]\n",
    "             ]\n",
    "students2"
   ]
  },
  {
   "cell_type": "code",
   "execution_count": 52,
   "metadata": {},
   "outputs": [
    {
     "name": "stdout",
     "output_type": "stream",
     "text": [
      "Classes(rank='D', number='1')\n",
      "Classes(rank='D', number='2')\n",
      "Classes(rank='D', number='3')\n",
      "Classes(rank='D', number='4')\n",
      "Classes(rank='D', number='5')\n",
      "Classes(rank='D', number='6')\n",
      "Classes(rank='D', number='7')\n",
      "Classes(rank='D', number='8')\n",
      "Classes(rank='D', number='9')\n",
      "Classes(rank='D', number='10')\n",
      "Classes(rank='D', number='11')\n",
      "Classes(rank='D', number='12')\n",
      "Classes(rank='D', number='13')\n",
      "Classes(rank='D', number='14')\n",
      "Classes(rank='D', number='15')\n",
      "Classes(rank='D', number='16')\n",
      "Classes(rank='D', number='17')\n",
      "Classes(rank='D', number='18')\n",
      "Classes(rank='D', number='19')\n",
      "Classes(rank='D', number='20')\n"
     ]
    }
   ],
   "source": [
    "for s in students2:\n",
    "    if s.rank == \"D\":\n",
    "        print(s)"
   ]
  },
  {
   "cell_type": "code",
   "execution_count": null,
   "metadata": {},
   "outputs": [],
   "source": []
  }
 ],
 "metadata": {
  "kernelspec": {
   "display_name": "python_adv",
   "language": "python",
   "name": "python3"
  },
  "language_info": {
   "codemirror_mode": {
    "name": "ipython",
    "version": 3
   },
   "file_extension": ".py",
   "mimetype": "text/x-python",
   "name": "python",
   "nbconvert_exporter": "python",
   "pygments_lexer": "ipython3",
   "version": "3.10.10"
  },
  "orig_nbformat": 4
 },
 "nbformat": 4,
 "nbformat_minor": 2
}
