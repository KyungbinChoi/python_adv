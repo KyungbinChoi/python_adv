{
 "cells": [
  {
   "attachments": {},
   "cell_type": "markdown",
   "metadata": {},
   "source": [
    "## Sequence in Python\n",
    "- Container : 서로 다른 자료형을 담는 구조 (list, tuple, collections.deque)\n",
    "- Flat : 한 개의 자료형을 담는 구조 (str, byte, bytearray, array.array, memoryview)\n",
    "- 위의 구조들을 가변형 / 불가변형 으로 구분 가능\n",
    "    - 가변 : list, bytearray, array.array, memoryview, deque\n",
    "    - 불변 : tuple, str, bytes"
   ]
  },
  {
   "attachments": {},
   "cell_type": "markdown",
   "metadata": {},
   "source": [
    "### List comprehension"
   ]
  },
  {
   "cell_type": "code",
   "execution_count": 3,
   "metadata": {},
   "outputs": [
    {
     "data": {
      "text/plain": [
       "[43, 95, 41, 40, 41, 37, 37, 64, 36, 64, 35, 33]"
      ]
     },
     "execution_count": 3,
     "metadata": {},
     "output_type": "execute_result"
    }
   ],
   "source": [
    "chars = '+_)()%%@$@#!'\n",
    "code_list1 = []\n",
    "for s in chars:\n",
    "    code_list1.append(ord(s))\n",
    "code_list1\n"
   ]
  },
  {
   "cell_type": "code",
   "execution_count": 4,
   "metadata": {},
   "outputs": [
    {
     "data": {
      "text/plain": [
       "[43, 95, 41, 40, 41, 37, 37, 64, 36, 64, 35, 33]"
      ]
     },
     "execution_count": 4,
     "metadata": {},
     "output_type": "execute_result"
    }
   ],
   "source": [
    "code_list2 = [ord(s) for s in chars]\n",
    "code_list2"
   ]
  },
  {
   "cell_type": "code",
   "execution_count": 5,
   "metadata": {},
   "outputs": [
    {
     "data": {
      "text/plain": [
       "[43, 95, 41, 41, 64, 64]"
      ]
     },
     "execution_count": 5,
     "metadata": {},
     "output_type": "execute_result"
    }
   ],
   "source": [
    "# comprehending list + map, filter\n",
    "code_list3 = [ord(s) for s in chars if ord(s)>40]\n",
    "code_list3"
   ]
  },
  {
   "cell_type": "code",
   "execution_count": 6,
   "metadata": {},
   "outputs": [
    {
     "data": {
      "text/plain": [
       "[43, 95, 41, 41, 64, 64]"
      ]
     },
     "execution_count": 6,
     "metadata": {},
     "output_type": "execute_result"
    }
   ],
   "source": [
    "code_list4 = list(filter(lambda x:x>40, map(ord, chars)))\n",
    "code_list4"
   ]
  },
  {
   "cell_type": "code",
   "execution_count": 8,
   "metadata": {},
   "outputs": [
    {
     "name": "stdout",
     "output_type": "stream",
     "text": [
      "['+', '_', ')', '(', ')', '%', '%', '@', '$', '@', '#', '!']\n",
      "['+', '_', ')', '(', ')', '%', '%', '@', '$', '@', '#', '!']\n",
      "['+', '_', ')', ')', '@', '@']\n",
      "['+', '_', ')', ')', '@', '@']\n"
     ]
    }
   ],
   "source": [
    "print([chr(s) for s in code_list1])\n",
    "print([chr(s) for s in code_list2])\n",
    "print([chr(s) for s in code_list3])\n",
    "print([chr(s) for s in code_list4])"
   ]
  },
  {
   "attachments": {},
   "cell_type": "markdown",
   "metadata": {},
   "source": [
    "### Generator\n",
    "- sequence result 를 생성하고, local state 를 유지하면서 동작하는 iterator\n",
    "- 연속되는 값을 반환하는 과정에서 효율적으로 활용 가능\n",
    "    - 한 번에 한 개의 항목을 생성 (memory 유지 x)"
   ]
  },
  {
   "cell_type": "code",
   "execution_count": 9,
   "metadata": {},
   "outputs": [],
   "source": [
    "import array"
   ]
  },
  {
   "cell_type": "code",
   "execution_count": 10,
   "metadata": {},
   "outputs": [
    {
     "data": {
      "text/plain": [
       "[43, 95, 41, 40, 41, 37, 37, 64, 36, 64, 35, 33]"
      ]
     },
     "execution_count": 10,
     "metadata": {},
     "output_type": "execute_result"
    }
   ],
   "source": [
    "tuple_g = [ord(s) for s in chars]\n",
    "tuple_g"
   ]
  },
  {
   "cell_type": "code",
   "execution_count": 11,
   "metadata": {},
   "outputs": [
    {
     "data": {
      "text/plain": [
       "<generator object <genexpr> at 0x10799d540>"
      ]
     },
     "execution_count": 11,
     "metadata": {},
     "output_type": "execute_result"
    }
   ],
   "source": [
    "#  generator\n",
    "tuple_g = (ord(s) for s in chars)\n",
    "tuple_g"
   ]
  },
  {
   "cell_type": "code",
   "execution_count": 13,
   "metadata": {},
   "outputs": [
    {
     "name": "stdout",
     "output_type": "stream",
     "text": [
      "37\n",
      "64\n",
      "36\n",
      "64\n",
      "35\n",
      "33\n"
     ]
    },
    {
     "ename": "StopIteration",
     "evalue": "",
     "output_type": "error",
     "traceback": [
      "\u001b[0;31m---------------------------------------------------------------------------\u001b[0m",
      "\u001b[0;31mStopIteration\u001b[0m                             Traceback (most recent call last)",
      "Cell \u001b[0;32mIn[13], line 7\u001b[0m\n\u001b[1;32m      5\u001b[0m \u001b[39mprint\u001b[39m(\u001b[39mnext\u001b[39m(tuple_g))\n\u001b[1;32m      6\u001b[0m \u001b[39mprint\u001b[39m(\u001b[39mnext\u001b[39m(tuple_g))\n\u001b[0;32m----> 7\u001b[0m \u001b[39mprint\u001b[39m(\u001b[39mnext\u001b[39;49m(tuple_g))\n\u001b[1;32m      8\u001b[0m \u001b[39mprint\u001b[39m(\u001b[39mnext\u001b[39m(tuple_g))\n",
      "\u001b[0;31mStopIteration\u001b[0m: "
     ]
    }
   ],
   "source": [
    "print(next(tuple_g))\n",
    "print(next(tuple_g))\n",
    "print(next(tuple_g))\n",
    "print(next(tuple_g))\n",
    "print(next(tuple_g))\n",
    "print(next(tuple_g))\n",
    "print(next(tuple_g))\n",
    "print(next(tuple_g))"
   ]
  },
  {
   "cell_type": "code",
   "execution_count": 16,
   "metadata": {},
   "outputs": [
    {
     "name": "stdout",
     "output_type": "stream",
     "text": [
      "<generator object <genexpr> at 0x115900820>\n",
      "43\n",
      "[43, 95, 41, 40, 41, 37, 37, 64, 36, 64, 35, 33]\n"
     ]
    }
   ],
   "source": [
    "tuple_g = (ord(s) for s in chars)\n",
    "array_g = array.array('I', (ord(s) for s in chars))\n",
    "print(tuple_g)\n",
    "print(next(tuple_g))\n",
    "print(array_g.tolist())"
   ]
  },
  {
   "cell_type": "code",
   "execution_count": 17,
   "metadata": {},
   "outputs": [
    {
     "name": "stdout",
     "output_type": "stream",
     "text": [
      "<generator object <genexpr> at 0x115900c80>\n"
     ]
    }
   ],
   "source": [
    "print(('%s' % c + str(n) for c in ['A','B', 'C', 'D'] for n in range(1,21)))"
   ]
  },
  {
   "cell_type": "code",
   "execution_count": 18,
   "metadata": {},
   "outputs": [
    {
     "name": "stdout",
     "output_type": "stream",
     "text": [
      "A1\n",
      "A2\n",
      "A3\n",
      "A4\n",
      "A5\n",
      "A6\n",
      "A7\n",
      "A8\n",
      "A9\n",
      "A10\n",
      "A11\n",
      "A12\n",
      "A13\n",
      "A14\n",
      "A15\n",
      "A16\n",
      "A17\n",
      "A18\n",
      "A19\n",
      "A20\n",
      "B1\n",
      "B2\n",
      "B3\n",
      "B4\n",
      "B5\n",
      "B6\n",
      "B7\n",
      "B8\n",
      "B9\n",
      "B10\n",
      "B11\n",
      "B12\n",
      "B13\n",
      "B14\n",
      "B15\n",
      "B16\n",
      "B17\n",
      "B18\n",
      "B19\n",
      "B20\n",
      "C1\n",
      "C2\n",
      "C3\n",
      "C4\n",
      "C5\n",
      "C6\n",
      "C7\n",
      "C8\n",
      "C9\n",
      "C10\n",
      "C11\n",
      "C12\n",
      "C13\n",
      "C14\n",
      "C15\n",
      "C16\n",
      "C17\n",
      "C18\n",
      "C19\n",
      "C20\n",
      "D1\n",
      "D2\n",
      "D3\n",
      "D4\n",
      "D5\n",
      "D6\n",
      "D7\n",
      "D8\n",
      "D9\n",
      "D10\n",
      "D11\n",
      "D12\n",
      "D13\n",
      "D14\n",
      "D15\n",
      "D16\n",
      "D17\n",
      "D18\n",
      "D19\n",
      "D20\n"
     ]
    }
   ],
   "source": [
    "for s in ('%s' % c + str(n) for c in ['A','B', 'C', 'D'] for n in range(1,21)):\n",
    "    print(s)"
   ]
  },
  {
   "attachments": {},
   "cell_type": "markdown",
   "metadata": {},
   "source": [
    "### shallow copy & deep copy using list (*Caution)"
   ]
  },
  {
   "cell_type": "code",
   "execution_count": 20,
   "metadata": {},
   "outputs": [
    {
     "data": {
      "text/plain": [
       "[['~', '~', '~', '~', '~'],\n",
       " ['~', '~', '~', '~', '~'],\n",
       " ['~', '~', '~', '~', '~'],\n",
       " ['~', '~', '~', '~', '~'],\n",
       " ['~', '~', '~', '~', '~']]"
      ]
     },
     "execution_count": 20,
     "metadata": {},
     "output_type": "execute_result"
    }
   ],
   "source": [
    "marks1 = [['~']*5 for _ in range(5)]\n",
    "marks1"
   ]
  },
  {
   "cell_type": "code",
   "execution_count": 21,
   "metadata": {},
   "outputs": [
    {
     "data": {
      "text/plain": [
       "[['~', '~', '~', '~', '~'],\n",
       " ['~', '~', '~', '~', '~'],\n",
       " ['~', '~', '~', '~', '~'],\n",
       " ['~', '~', '~', '~', '~'],\n",
       " ['~', '~', '~', '~', '~']]"
      ]
     },
     "execution_count": 21,
     "metadata": {},
     "output_type": "execute_result"
    }
   ],
   "source": [
    "mark2 = [['~']*5]*5\n",
    "mark2"
   ]
  },
  {
   "cell_type": "code",
   "execution_count": 22,
   "metadata": {},
   "outputs": [
    {
     "name": "stdout",
     "output_type": "stream",
     "text": [
      "[['~', 'x', '~', '~', '~'], ['~', '~', '~', '~', '~'], ['~', '~', '~', '~', '~'], ['~', '~', '~', '~', '~'], ['~', '~', '~', '~', '~']]\n"
     ]
    }
   ],
   "source": [
    "marks1[0][1] = 'x'\n",
    "print(marks1)"
   ]
  },
  {
   "cell_type": "code",
   "execution_count": 23,
   "metadata": {},
   "outputs": [
    {
     "name": "stdout",
     "output_type": "stream",
     "text": [
      "[['~', 'x', '~', '~', '~'], ['~', 'x', '~', '~', '~'], ['~', 'x', '~', '~', '~'], ['~', 'x', '~', '~', '~'], ['~', 'x', '~', '~', '~']]\n"
     ]
    }
   ],
   "source": [
    "mark2[0][1] = 'x'\n",
    "print(mark2)"
   ]
  },
  {
   "cell_type": "code",
   "execution_count": 24,
   "metadata": {},
   "outputs": [
    {
     "name": "stdout",
     "output_type": "stream",
     "text": [
      "[4656884416, 4656918464, 4656934592, 4656933440, 4656879296]\n",
      "[4415061056, 4415061056, 4415061056, 4415061056, 4415061056]\n"
     ]
    }
   ],
   "source": [
    "# configure id value\n",
    "print([id(i) for i in marks1])\n",
    "print([id(i) for i in mark2])"
   ]
  },
  {
   "attachments": {},
   "cell_type": "markdown",
   "metadata": {},
   "source": [
    "## Advanced topic for Tuple\n",
    "- Unpacking\n",
    "- mutable vs immutable"
   ]
  },
  {
   "cell_type": "code",
   "execution_count": 31,
   "metadata": {},
   "outputs": [
    {
     "name": "stdout",
     "output_type": "stream",
     "text": [
      "(11, 1)\n",
      "(11, 1)\n",
      "11 1\n"
     ]
    }
   ],
   "source": [
    "print(divmod(100,9))\n",
    "print(divmod(*(100,9))) # unpacking\n",
    "print(*(divmod(100,9))) # unpacking"
   ]
  },
  {
   "cell_type": "code",
   "execution_count": 32,
   "metadata": {},
   "outputs": [],
   "source": [
    "x, y, *rest = range(10)"
   ]
  },
  {
   "cell_type": "code",
   "execution_count": 33,
   "metadata": {},
   "outputs": [
    {
     "name": "stdout",
     "output_type": "stream",
     "text": [
      "0 1 [2, 3, 4, 5, 6, 7, 8, 9]\n"
     ]
    }
   ],
   "source": [
    "print(x, y, rest)"
   ]
  },
  {
   "cell_type": "code",
   "execution_count": 34,
   "metadata": {},
   "outputs": [
    {
     "name": "stdout",
     "output_type": "stream",
     "text": [
      "0 1 []\n"
     ]
    }
   ],
   "source": [
    "x, y, *rest = range(2)\n",
    "print(x, y, rest)"
   ]
  },
  {
   "cell_type": "code",
   "execution_count": 35,
   "metadata": {},
   "outputs": [
    {
     "name": "stdout",
     "output_type": "stream",
     "text": [
      "1 2 [3, 4, 5]\n"
     ]
    }
   ],
   "source": [
    "x, y, *rest = 1,2,3,4,5\n",
    "print(x, y, rest)"
   ]
  },
  {
   "cell_type": "code",
   "execution_count": 36,
   "metadata": {},
   "outputs": [],
   "source": [
    "tp1 = (15,20,25)\n",
    "ls1 = [15,20,25]"
   ]
  },
  {
   "cell_type": "code",
   "execution_count": 37,
   "metadata": {},
   "outputs": [
    {
     "name": "stdout",
     "output_type": "stream",
     "text": [
      "4656777792\n",
      "4428665280\n"
     ]
    }
   ],
   "source": [
    "print(id(tp1))\n",
    "print(id(ls1))"
   ]
  },
  {
   "cell_type": "code",
   "execution_count": 38,
   "metadata": {},
   "outputs": [
    {
     "name": "stdout",
     "output_type": "stream",
     "text": [
      "(15, 20, 25, 15, 20, 25)\n",
      "[15, 20, 25, 15, 20, 25]\n",
      "4429035936\n",
      "4422347456\n"
     ]
    }
   ],
   "source": [
    "tp1 = tp1 * 2\n",
    "ls1 = ls1 * 2\n",
    "\n",
    "print(tp1)\n",
    "print(ls1)\n",
    "print(id(tp1))\n",
    "print(id(ls1))"
   ]
  },
  {
   "cell_type": "code",
   "execution_count": 39,
   "metadata": {},
   "outputs": [
    {
     "name": "stdout",
     "output_type": "stream",
     "text": [
      "(15, 20, 25, 15, 20, 25, 15, 20, 25, 15, 20, 25)\n",
      "[15, 20, 25, 15, 20, 25, 15, 20, 25, 15, 20, 25]\n",
      "4428800080\n",
      "4422347456\n"
     ]
    }
   ],
   "source": [
    "tp1 *= 2\n",
    "ls1 *= 2\n",
    "\n",
    "print(tp1)\n",
    "print(ls1)\n",
    "print(id(tp1)) # changed id\n",
    "print(id(ls1)) # persist id value"
   ]
  },
  {
   "attachments": {},
   "cell_type": "markdown",
   "metadata": {},
   "source": [
    "### Sort & Sorted\n",
    "- sorted : 정렬 후 새로운 객체 반환 (원본 유지)\n",
    "- sort : 정렬 후 객체 직접 변경 (원본 변경)\n",
    "- reverse , key = len , key = str.lower, key= func..."
   ]
  },
  {
   "cell_type": "code",
   "execution_count": 44,
   "metadata": {},
   "outputs": [
    {
     "name": "stdout",
     "output_type": "stream",
     "text": [
      "['orange', 'apple', 'mango', 'papaya', 'lemon', 'coconut']\n",
      "sorted  ['apple', 'coconut', 'lemon', 'mango', 'orange', 'papaya']\n",
      "sorted  ['papaya', 'orange', 'mango', 'lemon', 'coconut', 'apple']\n",
      "sorted  ['apple', 'mango', 'lemon', 'orange', 'papaya', 'coconut']\n",
      "sorted  ['papaya', 'orange', 'apple', 'lemon', 'mango', 'coconut']\n",
      "sorted  ['coconut', 'mango', 'lemon', 'orange', 'apple', 'papaya']\n"
     ]
    }
   ],
   "source": [
    "f_list = ['orange', 'apple', 'mango', 'papaya', 'lemon', 'coconut']\n",
    "print(f_list)\n",
    "print('sorted ', sorted(f_list))\n",
    "print('sorted ', sorted(f_list, reverse=True))\n",
    "print('sorted ', sorted(f_list, key=len))\n",
    "print('sorted ', sorted(f_list, key=lambda x:x[-1]))\n",
    "print('sorted ', sorted(f_list, key=lambda x:x[-1], reverse=True))"
   ]
  },
  {
   "cell_type": "code",
   "execution_count": 46,
   "metadata": {},
   "outputs": [
    {
     "name": "stdout",
     "output_type": "stream",
     "text": [
      "sort -  None ['apple', 'coconut', 'lemon', 'mango', 'orange', 'papaya']\n",
      "sort -  None ['papaya', 'orange', 'mango', 'lemon', 'coconut', 'apple']\n",
      "sort -  None ['mango', 'lemon', 'apple', 'papaya', 'orange', 'coconut']\n",
      "sort -  None ['papaya', 'apple', 'orange', 'lemon', 'mango', 'coconut']\n",
      "sort -  None ['coconut', 'mango', 'lemon', 'apple', 'orange', 'papaya']\n"
     ]
    }
   ],
   "source": [
    "print('sort - ', f_list.sort(), f_list)\n",
    "print('sort - ', f_list.sort(reverse=True), f_list)\n",
    "print('sort - ', f_list.sort(key=len), f_list)\n",
    "print('sort - ', f_list.sort(key=lambda x:x[-1]), f_list)\n",
    "print('sort - ', f_list.sort(key=lambda x:x[-1], reverse=True), f_list)\n"
   ]
  },
  {
   "attachments": {},
   "cell_type": "markdown",
   "metadata": {},
   "source": [
    "### list vs array\n",
    "- list : 융통성, 다양한 자료형, 범용적 사용\n",
    "- array : 숫자 기반의 vector & matrix"
   ]
  },
  {
   "attachments": {},
   "cell_type": "markdown",
   "metadata": {},
   "source": [
    "### Hashtable & setdefault\n",
    "- Hashtable\n",
    "    - key 에 value 를 저장하는 구조, 효율적으로 데이터 관리가 가능한 구조\n",
    "    - key 값의 연산 결과에 따라 직접 접근이 가능한 구조\n",
    "    - pyhton ~ dictionary\n",
    "    - key 값을 해싱 함수 -> 해쉬 주소 -> key 에 대한 value 참조"
   ]
  },
  {
   "cell_type": "code",
   "execution_count": 47,
   "metadata": {},
   "outputs": [
    {
     "name": "stdout",
     "output_type": "stream",
     "text": [
      "{'__name__': 'builtins', '__doc__': \"Built-in functions, exceptions, and other objects.\\n\\nNoteworthy: None is the `nil' object; Ellipsis represents `...' in slices.\", '__package__': '', '__loader__': <class '_frozen_importlib.BuiltinImporter'>, '__spec__': ModuleSpec(name='builtins', loader=<class '_frozen_importlib.BuiltinImporter'>, origin='built-in'), '__build_class__': <built-in function __build_class__>, '__import__': <built-in function __import__>, 'abs': <built-in function abs>, 'all': <built-in function all>, 'any': <built-in function any>, 'ascii': <built-in function ascii>, 'bin': <built-in function bin>, 'breakpoint': <built-in function breakpoint>, 'callable': <built-in function callable>, 'chr': <built-in function chr>, 'compile': <built-in function compile>, 'delattr': <built-in function delattr>, 'dir': <built-in function dir>, 'divmod': <built-in function divmod>, 'eval': <built-in function eval>, 'exec': <built-in function exec>, 'format': <built-in function format>, 'getattr': <built-in function getattr>, 'globals': <built-in function globals>, 'hasattr': <built-in function hasattr>, 'hash': <built-in function hash>, 'hex': <built-in function hex>, 'id': <built-in function id>, 'input': <bound method Kernel.raw_input of <ipykernel.ipkernel.IPythonKernel object at 0x1076e05b0>>, 'isinstance': <built-in function isinstance>, 'issubclass': <built-in function issubclass>, 'iter': <built-in function iter>, 'aiter': <built-in function aiter>, 'len': <built-in function len>, 'locals': <built-in function locals>, 'max': <built-in function max>, 'min': <built-in function min>, 'next': <built-in function next>, 'anext': <built-in function anext>, 'oct': <built-in function oct>, 'ord': <built-in function ord>, 'pow': <built-in function pow>, 'print': <built-in function print>, 'repr': <built-in function repr>, 'round': <built-in function round>, 'setattr': <built-in function setattr>, 'sorted': <built-in function sorted>, 'sum': <built-in function sum>, 'vars': <built-in function vars>, 'None': None, 'Ellipsis': Ellipsis, 'NotImplemented': NotImplemented, 'False': False, 'True': True, 'bool': <class 'bool'>, 'memoryview': <class 'memoryview'>, 'bytearray': <class 'bytearray'>, 'bytes': <class 'bytes'>, 'classmethod': <class 'classmethod'>, 'complex': <class 'complex'>, 'dict': <class 'dict'>, 'enumerate': <class 'enumerate'>, 'filter': <class 'filter'>, 'float': <class 'float'>, 'frozenset': <class 'frozenset'>, 'property': <class 'property'>, 'int': <class 'int'>, 'list': <class 'list'>, 'map': <class 'map'>, 'object': <class 'object'>, 'range': <class 'range'>, 'reversed': <class 'reversed'>, 'set': <class 'set'>, 'slice': <class 'slice'>, 'staticmethod': <class 'staticmethod'>, 'str': <class 'str'>, 'super': <class 'super'>, 'tuple': <class 'tuple'>, 'type': <class 'type'>, 'zip': <class 'zip'>, '__debug__': True, 'BaseException': <class 'BaseException'>, 'Exception': <class 'Exception'>, 'TypeError': <class 'TypeError'>, 'StopAsyncIteration': <class 'StopAsyncIteration'>, 'StopIteration': <class 'StopIteration'>, 'GeneratorExit': <class 'GeneratorExit'>, 'SystemExit': <class 'SystemExit'>, 'KeyboardInterrupt': <class 'KeyboardInterrupt'>, 'ImportError': <class 'ImportError'>, 'ModuleNotFoundError': <class 'ModuleNotFoundError'>, 'OSError': <class 'OSError'>, 'EnvironmentError': <class 'OSError'>, 'IOError': <class 'OSError'>, 'EOFError': <class 'EOFError'>, 'RuntimeError': <class 'RuntimeError'>, 'RecursionError': <class 'RecursionError'>, 'NotImplementedError': <class 'NotImplementedError'>, 'NameError': <class 'NameError'>, 'UnboundLocalError': <class 'UnboundLocalError'>, 'AttributeError': <class 'AttributeError'>, 'SyntaxError': <class 'SyntaxError'>, 'IndentationError': <class 'IndentationError'>, 'TabError': <class 'TabError'>, 'LookupError': <class 'LookupError'>, 'IndexError': <class 'IndexError'>, 'KeyError': <class 'KeyError'>, 'ValueError': <class 'ValueError'>, 'UnicodeError': <class 'UnicodeError'>, 'UnicodeEncodeError': <class 'UnicodeEncodeError'>, 'UnicodeDecodeError': <class 'UnicodeDecodeError'>, 'UnicodeTranslateError': <class 'UnicodeTranslateError'>, 'AssertionError': <class 'AssertionError'>, 'ArithmeticError': <class 'ArithmeticError'>, 'FloatingPointError': <class 'FloatingPointError'>, 'OverflowError': <class 'OverflowError'>, 'ZeroDivisionError': <class 'ZeroDivisionError'>, 'SystemError': <class 'SystemError'>, 'ReferenceError': <class 'ReferenceError'>, 'MemoryError': <class 'MemoryError'>, 'BufferError': <class 'BufferError'>, 'Warning': <class 'Warning'>, 'UserWarning': <class 'UserWarning'>, 'EncodingWarning': <class 'EncodingWarning'>, 'DeprecationWarning': <class 'DeprecationWarning'>, 'PendingDeprecationWarning': <class 'PendingDeprecationWarning'>, 'SyntaxWarning': <class 'SyntaxWarning'>, 'RuntimeWarning': <class 'RuntimeWarning'>, 'FutureWarning': <class 'FutureWarning'>, 'ImportWarning': <class 'ImportWarning'>, 'UnicodeWarning': <class 'UnicodeWarning'>, 'BytesWarning': <class 'BytesWarning'>, 'ResourceWarning': <class 'ResourceWarning'>, 'ConnectionError': <class 'ConnectionError'>, 'BlockingIOError': <class 'BlockingIOError'>, 'BrokenPipeError': <class 'BrokenPipeError'>, 'ChildProcessError': <class 'ChildProcessError'>, 'ConnectionAbortedError': <class 'ConnectionAbortedError'>, 'ConnectionRefusedError': <class 'ConnectionRefusedError'>, 'ConnectionResetError': <class 'ConnectionResetError'>, 'FileExistsError': <class 'FileExistsError'>, 'FileNotFoundError': <class 'FileNotFoundError'>, 'IsADirectoryError': <class 'IsADirectoryError'>, 'NotADirectoryError': <class 'NotADirectoryError'>, 'InterruptedError': <class 'InterruptedError'>, 'PermissionError': <class 'PermissionError'>, 'ProcessLookupError': <class 'ProcessLookupError'>, 'TimeoutError': <class 'TimeoutError'>, 'open': <built-in function open>, 'copyright': Copyright (c) 2001-2023 Python Software Foundation.\n",
      "All Rights Reserved.\n",
      "\n",
      "Copyright (c) 2000 BeOpen.com.\n",
      "All Rights Reserved.\n",
      "\n",
      "Copyright (c) 1995-2001 Corporation for National Research Initiatives.\n",
      "All Rights Reserved.\n",
      "\n",
      "Copyright (c) 1991-1995 Stichting Mathematisch Centrum, Amsterdam.\n",
      "All Rights Reserved., 'credits':     Thanks to CWI, CNRI, BeOpen.com, Zope Corporation and a cast of thousands\n",
      "    for supporting Python development.  See www.python.org for more information., 'license': Type license() to see the full license text, 'help': Type help() for interactive help, or help(object) for help about object., 'execfile': <function execfile at 0x1072b7e20>, 'runfile': <function runfile at 0x10736f6d0>, '__IPYTHON__': True, 'display': <function display at 0x104c41000>, 'get_ipython': <bound method InteractiveShell.get_ipython of <ipykernel.zmqshell.ZMQInteractiveShell object at 0x1076e0a60>>}\n"
     ]
    }
   ],
   "source": [
    "print(__builtins__.__dict__)"
   ]
  },
  {
   "cell_type": "code",
   "execution_count": 48,
   "metadata": {},
   "outputs": [],
   "source": [
    "# hash 값 확인\n",
    "t1 = (10,20, (30,40,50))\n",
    "t2 = (10,20, [30,40,50])"
   ]
  },
  {
   "cell_type": "code",
   "execution_count": 49,
   "metadata": {},
   "outputs": [
    {
     "name": "stdout",
     "output_type": "stream",
     "text": [
      "465510690262297113\n"
     ]
    }
   ],
   "source": [
    "print(hash(t1))"
   ]
  },
  {
   "cell_type": "code",
   "execution_count": 50,
   "metadata": {},
   "outputs": [
    {
     "ename": "TypeError",
     "evalue": "unhashable type: 'list'",
     "output_type": "error",
     "traceback": [
      "\u001b[0;31m---------------------------------------------------------------------------\u001b[0m",
      "\u001b[0;31mTypeError\u001b[0m                                 Traceback (most recent call last)",
      "Cell \u001b[0;32mIn[50], line 1\u001b[0m\n\u001b[0;32m----> 1\u001b[0m \u001b[39mprint\u001b[39m(\u001b[39mhash\u001b[39;49m(t2))\n",
      "\u001b[0;31mTypeError\u001b[0m: unhashable type: 'list'"
     ]
    }
   ],
   "source": [
    "print(hash(t2)) # because list is mutable oject"
   ]
  },
  {
   "cell_type": "code",
   "execution_count": 51,
   "metadata": {},
   "outputs": [],
   "source": [
    "# Dictionary ~ Setdefault 예제\n",
    "source = (\n",
    "    ('k1', 'val1'),\n",
    "    ('k1', 'val2'),\n",
    "    ('k2', 'val3'),\n",
    "    ('k2', 'val4'),\n",
    "    ('k2', 'val5')\n",
    "    )\n",
    "new_dict1 = {}\n",
    "new_dict2 = {}"
   ]
  },
  {
   "cell_type": "code",
   "execution_count": 52,
   "metadata": {},
   "outputs": [
    {
     "name": "stdout",
     "output_type": "stream",
     "text": [
      "{'k1': ['val1', 'val2'], 'k2': ['val3', 'val4', 'val5']}\n"
     ]
    }
   ],
   "source": [
    "for k, v in source:\n",
    "    if k in new_dict1:\n",
    "        new_dict1[k].append(v)\n",
    "    else:\n",
    "        new_dict1[k]= [v]\n",
    "print(new_dict1)"
   ]
  },
  {
   "cell_type": "code",
   "execution_count": 53,
   "metadata": {},
   "outputs": [
    {
     "name": "stdout",
     "output_type": "stream",
     "text": [
      "{'k1': ['val1', 'val2'], 'k2': ['val3', 'val4', 'val5']}\n"
     ]
    }
   ],
   "source": [
    "for k, v in source:\n",
    "    new_dict2.setdefault(k, []).append(v)\n",
    "print(new_dict2)"
   ]
  },
  {
   "cell_type": "code",
   "execution_count": 55,
   "metadata": {},
   "outputs": [
    {
     "data": {
      "text/plain": [
       "{'k1': 'val2', 'k2': 'val5'}"
      ]
     },
     "execution_count": 55,
     "metadata": {},
     "output_type": "execute_result"
    }
   ],
   "source": [
    "# 활용 시 주의\n",
    "new_dict3 = {k: v for k, v in source}\n",
    "new_dict3"
   ]
  },
  {
   "attachments": {},
   "cell_type": "markdown",
   "metadata": {},
   "source": [
    "### Immutable Dict 생성과 지능형 Set"
   ]
  },
  {
   "cell_type": "code",
   "execution_count": 56,
   "metadata": {},
   "outputs": [],
   "source": [
    "# immutable dict\n",
    "from types import MappingProxyType"
   ]
  },
  {
   "cell_type": "code",
   "execution_count": 57,
   "metadata": {},
   "outputs": [],
   "source": [
    "dict1 = {'key1':'value1'} #wanted to be immutable\n",
    "dict1_frozen = MappingProxyType(dict1)"
   ]
  },
  {
   "cell_type": "code",
   "execution_count": 58,
   "metadata": {},
   "outputs": [
    {
     "name": "stdout",
     "output_type": "stream",
     "text": [
      "{'key1': 'value1'} 4657093824\n"
     ]
    }
   ],
   "source": [
    "print(dict1, id(dict1))"
   ]
  },
  {
   "cell_type": "code",
   "execution_count": 61,
   "metadata": {},
   "outputs": [
    {
     "name": "stdout",
     "output_type": "stream",
     "text": [
      "{'key1': 'value1'} 4421975728\n"
     ]
    }
   ],
   "source": [
    "print(dict1_frozen, id(dict1_frozen))"
   ]
  },
  {
   "cell_type": "code",
   "execution_count": 62,
   "metadata": {},
   "outputs": [
    {
     "name": "stdout",
     "output_type": "stream",
     "text": [
      "{'key1': 'value1', 'key2': 'value2'}\n"
     ]
    }
   ],
   "source": [
    "dict1['key2'] = 'value2'\n",
    "print(dict1)"
   ]
  },
  {
   "cell_type": "code",
   "execution_count": 63,
   "metadata": {},
   "outputs": [
    {
     "ename": "TypeError",
     "evalue": "'mappingproxy' object does not support item assignment",
     "output_type": "error",
     "traceback": [
      "\u001b[0;31m---------------------------------------------------------------------------\u001b[0m",
      "\u001b[0;31mTypeError\u001b[0m                                 Traceback (most recent call last)",
      "Cell \u001b[0;32mIn[63], line 1\u001b[0m\n\u001b[0;32m----> 1\u001b[0m dict1_frozen[\u001b[39m'\u001b[39;49m\u001b[39mkey2\u001b[39;49m\u001b[39m'\u001b[39;49m] \u001b[39m=\u001b[39m \u001b[39m'\u001b[39m\u001b[39mvalue2\u001b[39m\u001b[39m'\u001b[39m\n",
      "\u001b[0;31mTypeError\u001b[0m: 'mappingproxy' object does not support item assignment"
     ]
    }
   ],
   "source": [
    "dict1_frozen['key2'] = 'value2'"
   ]
  },
  {
   "cell_type": "code",
   "execution_count": 64,
   "metadata": {},
   "outputs": [],
   "source": [
    "s1 = {'Apple', 'Apple','Apple','Orange', 'Orange', 'Kiwi'}\n",
    "s2 = set(['Apple', 'Apple','Apple','Orange', 'Orange', 'Kiwi'])\n",
    "s3 = {3}\n",
    "s4 = set()\n",
    "s5 = frozenset({'Apple', 'Apple','Apple','Orange', 'Orange', 'Kiwi'})"
   ]
  },
  {
   "cell_type": "code",
   "execution_count": 65,
   "metadata": {},
   "outputs": [
    {
     "data": {
      "text/plain": [
       "{'Apple', 'Kiwi', 'Melon', 'Orange'}"
      ]
     },
     "execution_count": 65,
     "metadata": {},
     "output_type": "execute_result"
    }
   ],
   "source": [
    "s1.add('Melon')\n",
    "s1"
   ]
  },
  {
   "cell_type": "code",
   "execution_count": 66,
   "metadata": {},
   "outputs": [
    {
     "ename": "AttributeError",
     "evalue": "'frozenset' object has no attribute 'add'",
     "output_type": "error",
     "traceback": [
      "\u001b[0;31m---------------------------------------------------------------------------\u001b[0m",
      "\u001b[0;31mAttributeError\u001b[0m                            Traceback (most recent call last)",
      "Cell \u001b[0;32mIn[66], line 1\u001b[0m\n\u001b[0;32m----> 1\u001b[0m s5\u001b[39m.\u001b[39;49madd(\u001b[39m'\u001b[39m\u001b[39mMelon\u001b[39m\u001b[39m'\u001b[39m)\n",
      "\u001b[0;31mAttributeError\u001b[0m: 'frozenset' object has no attribute 'add'"
     ]
    }
   ],
   "source": [
    "s5.add('Melon')"
   ]
  },
  {
   "cell_type": "code",
   "execution_count": 67,
   "metadata": {},
   "outputs": [
    {
     "name": "stdout",
     "output_type": "stream",
     "text": [
      "{'Apple', 'Kiwi', 'Orange', 'Melon'} <class 'set'>\n",
      "{'Apple', 'Kiwi', 'Orange'} <class 'set'>\n",
      "frozenset({'Apple', 'Kiwi', 'Orange'}) <class 'frozenset'>\n"
     ]
    }
   ],
   "source": [
    "print(s1, type(s1))\n",
    "print(s2, type(s2))\n",
    "print(s5, type(s5))\n"
   ]
  },
  {
   "cell_type": "code",
   "execution_count": 68,
   "metadata": {},
   "outputs": [
    {
     "name": "stdout",
     "output_type": "stream",
     "text": [
      "  1           0 LOAD_CONST               0 (10)\n",
      "              2 BUILD_SET                1\n",
      "              4 RETURN_VALUE\n",
      "None\n",
      "  1           0 LOAD_NAME                0 (set)\n",
      "              2 LOAD_CONST               0 (10)\n",
      "              4 BUILD_LIST               1\n",
      "              6 CALL_FUNCTION            1\n",
      "              8 RETURN_VALUE\n",
      "None\n"
     ]
    }
   ],
   "source": [
    "# 선언 최적화\n",
    "# 바이트 코드 -> 파이썬 인터프리터 실행\n",
    "# dis -> 바이트 코드가 생성되는 과정을 볼 수 있음\n",
    "from dis import dis\n",
    "print(dis('{10}'))\n",
    "print(dis('set([10])'))"
   ]
  },
  {
   "cell_type": "code",
   "execution_count": 72,
   "metadata": {},
   "outputs": [
    {
     "name": "stdout",
     "output_type": "stream",
     "text": [
      "<generator object <genexpr> at 0x1159c62d0>\n",
      "{'', 'DIGIT NINE', 'LATIN SMALL LETTER O WITH GRAVE', 'NO-BREAK SPACE', 'LATIN SMALL LETTER S', 'QUESTION MARK', 'LATIN CAPITAL LETTER E', 'LATIN SMALL LETTER C WITH CEDILLA', 'LATIN SMALL LETTER X', 'LATIN CAPITAL LETTER O WITH ACUTE', 'LATIN CAPITAL LETTER M', 'VULGAR FRACTION THREE QUARTERS', 'PILCROW SIGN', 'AMPERSAND', 'LATIN CAPITAL LETTER I WITH GRAVE', 'RIGHT-POINTING DOUBLE ANGLE QUOTATION MARK', 'DIGIT FOUR', 'LATIN SMALL LETTER SHARP S', 'LATIN CAPITAL LETTER D', 'LATIN SMALL LETTER O WITH TILDE', 'LATIN CAPITAL LETTER O WITH CIRCUMFLEX', 'LATIN CAPITAL LETTER O WITH TILDE', 'CENT SIGN', 'VULGAR FRACTION ONE QUARTER', 'CURRENCY SIGN', 'LEFT PARENTHESIS', 'SOFT HYPHEN', 'SUPERSCRIPT ONE', 'LATIN CAPITAL LETTER U WITH DIAERESIS', 'LATIN CAPITAL LETTER K', 'SPACE', 'LATIN SMALL LETTER A WITH GRAVE', 'RIGHT SQUARE BRACKET', 'LATIN SMALL LETTER Z', 'CEDILLA', 'LATIN CAPITAL LETTER E WITH DIAERESIS', 'LEFT CURLY BRACKET', 'LATIN CAPITAL LETTER U WITH ACUTE', 'PLUS-MINUS SIGN', 'LATIN CAPITAL LETTER I WITH CIRCUMFLEX', 'DIGIT SEVEN', 'DIGIT ZERO', 'REVERSE SOLIDUS', 'LATIN SMALL LETTER ETH', 'LATIN SMALL LETTER A WITH ACUTE', 'LATIN CAPITAL LETTER H', 'NUMBER SIGN', 'LATIN SMALL LETTER A', 'HYPHEN-MINUS', 'LATIN SMALL LETTER Y', 'FULL STOP', 'LATIN CAPITAL LETTER R', 'LATIN SMALL LETTER Y WITH ACUTE', 'LATIN CAPITAL LETTER E WITH GRAVE', 'NOT SIGN', 'LATIN SMALL LETTER I', 'LATIN SMALL LETTER F', 'LATIN SMALL LETTER Q', 'LATIN SMALL LETTER Y WITH DIAERESIS', 'LATIN SMALL LETTER A WITH RING ABOVE', 'SOLIDUS', 'LATIN CAPITAL LETTER I', 'LATIN CAPITAL LETTER P', 'LATIN CAPITAL LETTER Q', 'LATIN SMALL LETTER N WITH TILDE', 'POUND SIGN', 'SUPERSCRIPT TWO', 'LATIN CAPITAL LETTER E WITH CIRCUMFLEX', 'LATIN CAPITAL LETTER C', 'LATIN CAPITAL LETTER O WITH GRAVE', 'LATIN CAPITAL LETTER U WITH GRAVE', 'LOW LINE', 'LATIN SMALL LETTER B', 'LATIN SMALL LETTER O WITH DIAERESIS', 'PLUS SIGN', 'LATIN CAPITAL LETTER C WITH CEDILLA', 'LATIN CAPITAL LETTER T', 'LATIN SMALL LETTER N', 'DOLLAR SIGN', 'GREATER-THAN SIGN', 'LATIN SMALL LETTER L', 'PERCENT SIGN', 'MULTIPLICATION SIGN', 'LEFT-POINTING DOUBLE ANGLE QUOTATION MARK', 'LATIN SMALL LETTER U WITH CIRCUMFLEX', 'REGISTERED SIGN', 'LATIN SMALL LETTER THORN', 'LATIN CAPITAL LETTER A WITH TILDE', 'LATIN CAPITAL LETTER W', 'LATIN SMALL LETTER V', 'LATIN CAPITAL LETTER A WITH DIAERESIS', 'MACRON', 'YEN SIGN', 'LATIN CAPITAL LETTER E WITH ACUTE', 'LATIN SMALL LETTER K', 'DIGIT SIX', 'LATIN SMALL LETTER O WITH CIRCUMFLEX', 'LESS-THAN SIGN', 'QUOTATION MARK', 'DIAERESIS', 'LATIN CAPITAL LETTER B', 'LATIN SMALL LETTER E', 'INVERTED QUESTION MARK', 'SEMICOLON', 'LATIN CAPITAL LETTER N WITH TILDE', 'MASCULINE ORDINAL INDICATOR', 'LATIN SMALL LETTER AE', 'SECTION SIGN', 'LATIN SMALL LETTER I WITH ACUTE', 'COLON', 'LATIN SMALL LETTER W', 'LATIN SMALL LETTER U WITH GRAVE', 'RIGHT PARENTHESIS', 'LATIN CAPITAL LETTER O', 'LATIN CAPITAL LETTER Y WITH ACUTE', 'LATIN SMALL LETTER M', 'LATIN SMALL LETTER I WITH GRAVE', 'LATIN SMALL LETTER P', 'MICRO SIGN', 'DIGIT THREE', 'EQUALS SIGN', 'LATIN CAPITAL LETTER S', 'COPYRIGHT SIGN', 'APOSTROPHE', 'LATIN SMALL LETTER D', 'LATIN SMALL LETTER I WITH DIAERESIS', 'LATIN SMALL LETTER O WITH ACUTE', 'VERTICAL LINE', 'LATIN CAPITAL LETTER THORN', 'RIGHT CURLY BRACKET', 'LATIN CAPITAL LETTER AE', 'LATIN CAPITAL LETTER U WITH CIRCUMFLEX', 'LEFT SQUARE BRACKET', 'FEMININE ORDINAL INDICATOR', 'LATIN SMALL LETTER H', 'LATIN CAPITAL LETTER G', 'TILDE', 'SUPERSCRIPT THREE', 'LATIN CAPITAL LETTER X', 'MIDDLE DOT', 'LATIN SMALL LETTER R', 'LATIN CAPITAL LETTER A WITH GRAVE', 'LATIN SMALL LETTER A WITH DIAERESIS', 'LATIN SMALL LETTER T', 'DEGREE SIGN', 'LATIN SMALL LETTER E WITH CIRCUMFLEX', 'LATIN CAPITAL LETTER A WITH RING ABOVE', 'CIRCUMFLEX ACCENT', 'LATIN SMALL LETTER G', 'DIVISION SIGN', 'LATIN CAPITAL LETTER A WITH ACUTE', 'LATIN SMALL LETTER I WITH CIRCUMFLEX', 'LATIN SMALL LETTER O', 'LATIN SMALL LETTER E WITH ACUTE', 'BROKEN BAR', 'DIGIT EIGHT', 'ACUTE ACCENT', 'DIGIT FIVE', 'DIGIT TWO', 'COMMERCIAL AT', 'DIGIT ONE', 'LATIN CAPITAL LETTER I WITH ACUTE', 'LATIN SMALL LETTER E WITH GRAVE', 'LATIN CAPITAL LETTER O WITH DIAERESIS', 'INVERTED EXCLAMATION MARK', 'LATIN SMALL LETTER U', 'LATIN SMALL LETTER O WITH STROKE', 'LATIN CAPITAL LETTER A WITH CIRCUMFLEX', 'COMMA', 'LATIN CAPITAL LETTER A', 'LATIN SMALL LETTER J', 'LATIN CAPITAL LETTER Z', 'LATIN SMALL LETTER A WITH CIRCUMFLEX', 'LATIN CAPITAL LETTER O WITH STROKE', 'LATIN SMALL LETTER U WITH ACUTE', 'LATIN CAPITAL LETTER L', 'EXCLAMATION MARK', 'LATIN SMALL LETTER E WITH DIAERESIS', 'LATIN CAPITAL LETTER V', 'LATIN CAPITAL LETTER U', 'ASTERISK', 'VULGAR FRACTION ONE HALF', 'LATIN CAPITAL LETTER I WITH DIAERESIS', 'LATIN CAPITAL LETTER N', 'LATIN CAPITAL LETTER Y', 'LATIN CAPITAL LETTER J', 'GRAVE ACCENT', 'LATIN SMALL LETTER A WITH TILDE', 'LATIN SMALL LETTER C', 'LATIN CAPITAL LETTER F', 'LATIN CAPITAL LETTER ETH', 'LATIN SMALL LETTER U WITH DIAERESIS'}\n"
     ]
    }
   ],
   "source": [
    "# Set Comprehension\n",
    "from unicodedata import name\n",
    "print({name(chr(i), '') for i in range(0,256)})"
   ]
  },
  {
   "cell_type": "code",
   "execution_count": null,
   "metadata": {},
   "outputs": [],
   "source": []
  }
 ],
 "metadata": {
  "kernelspec": {
   "display_name": "python_adv",
   "language": "python",
   "name": "python3"
  },
  "language_info": {
   "codemirror_mode": {
    "name": "ipython",
    "version": 3
   },
   "file_extension": ".py",
   "mimetype": "text/x-python",
   "name": "python",
   "nbconvert_exporter": "python",
   "pygments_lexer": "ipython3",
   "version": "3.10.10"
  },
  "orig_nbformat": 4
 },
 "nbformat": 4,
 "nbformat_minor": 2
}
